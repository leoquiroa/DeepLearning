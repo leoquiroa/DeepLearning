{
 "cells": [
  {
   "cell_type": "code",
   "execution_count": 24,
   "metadata": {},
   "outputs": [],
   "source": [
    "import numpy as np\n",
    "import matplotlib.pyplot as plt\n",
    "import pandas as pd\n",
    "from sklearn.preprocessing import MinMaxScaler\n",
    "from minisom import MiniSom\n",
    "from pylab import bone, pcolor, colorbar, plot, show"
   ]
  },
  {
   "cell_type": "code",
   "execution_count": 4,
   "metadata": {},
   "outputs": [
    {
     "data": {
      "text/plain": [
       "(690, 16)"
      ]
     },
     "execution_count": 4,
     "metadata": {},
     "output_type": "execute_result"
    }
   ],
   "source": [
    "dataset = pd.read_csv('./Data/Credit_Card_Applications.csv')\n",
    "dataset.shape"
   ]
  },
  {
   "cell_type": "markdown",
   "metadata": {},
   "source": [
    "* Input: a vector of 15 elements\n",
    "* Output: the neuron (customer) that is closest \n",
    "* The frauds are the outliers neurons, because they are far from the majority\n",
    "* The Mean Interneuron Distance, that means that in our self organizing map for each neuron, we need to have the Euclidean distance between this neuron and the neurons in its neighborhood\n",
    "* "
   ]
  },
  {
   "cell_type": "code",
   "execution_count": 6,
   "metadata": {},
   "outputs": [],
   "source": [
    "# Importing the dataset\n",
    "X = dataset.iloc[:, :-1].values\n",
    "y = dataset.iloc[:, -1].values"
   ]
  },
  {
   "cell_type": "code",
   "execution_count": 11,
   "metadata": {},
   "outputs": [],
   "source": [
    "# Feature Scaling\n",
    "sc = MinMaxScaler(feature_range = (0, 1))\n",
    "X = sc.fit_transform(X)"
   ]
  },
  {
   "cell_type": "markdown",
   "metadata": {},
   "source": [
    "* (x,y) size of the grid\n",
    "* input_len is the number of attributes\n",
    "* sigma is the radius of the different neighborhoods in the grid\n",
    "* learning_rate decides how much the weights are updated"
   ]
  },
  {
   "cell_type": "code",
   "execution_count": 60,
   "metadata": {},
   "outputs": [],
   "source": [
    "# Create the SOM\n",
    "som = MiniSom(x = 10, y = 10, input_len = 15, sigma = 1.0, learning_rate = 0.5)\n",
    "# initialize the weights\n",
    "som.random_weights_init(X)\n",
    "# number of iterations\n",
    "som.train_random(data = X, num_iteration = 100)"
   ]
  },
  {
   "cell_type": "markdown",
   "metadata": {},
   "source": [
    "* A higher MID means, the more the winning node will be far away from it's neighbors inside a neighborhood\n",
    "* Therefore the higher is the MID, the more the winning node is an outlier, because is far from the general rules\n",
    "* The white nodes contains a large MID which are the outliers.\n",
    "* The black nodes represent a low MID then a majority of points are there "
   ]
  },
  {
   "cell_type": "code",
   "execution_count": 61,
   "metadata": {},
   "outputs": [
    {
     "data": {
      "text/plain": [
       "<matplotlib.colorbar.Colorbar at 0x1d731f6dba8>"
      ]
     },
     "execution_count": 61,
     "metadata": {},
     "output_type": "execute_result"
    },
    {
     "data": {
      "image/png": "[encoded data removed]",
      "text/plain": [
       "<Figure size 432x288 with 2 Axes>"
      ]
     },
     "metadata": {
      "needs_background": "light"
     },
     "output_type": "display_data"
    }
   ],
   "source": [
    "bone()\n",
    "pcolor(som.distance_map().T)\n",
    "colorbar()"
   ]
  },
  {
   "cell_type": "markdown",
   "metadata": {},
   "source": [
    "* The customers who cheated and got approval are more relevant targets to fraud detection than the customers who didn't get approval and cheated.\n",
    "* *Red circles* are the customers who didn't got approval\n",
    "* *Green squares* are the customers who got approval\n",
    "* the 0.5 is because the dots are located in the lower right corner of the square\n",
    "* "
   ]
  },
  {
   "cell_type": "code",
   "execution_count": 62,
   "metadata": {},
   "outputs": [
    {
     "data": {
      "image/png": "[encoded data removed]",
      "text/plain": [
       "<Figure size 432x288 with 2 Axes>"
      ]
     },
     "metadata": {
      "needs_background": "light"
     },
     "output_type": "display_data"
    }
   ],
   "source": [
    "# Visualizing the results\n",
    "bone()\n",
    "pcolor(som.distance_map().T)\n",
    "colorbar()\n",
    "markers = ['o', 's']\n",
    "colors = ['r', 'g']\n",
    "for i, x in enumerate(X):\n",
    "    w = som.winner(x)\n",
    "    plot(w[0] + 0.5,\n",
    "         w[1] + 0.5,\n",
    "         markers[y[i]],\n",
    "         markeredgecolor = colors[y[i]],\n",
    "         markerfacecolor = 'None',\n",
    "         markersize = 10,\n",
    "         markeredgewidth = 2)\n",
    "show()"
   ]
  },
  {
   "cell_type": "code",
   "execution_count": 63,
   "metadata": {},
   "outputs": [
    {
     "name": "stdout",
     "output_type": "stream",
     "text": [
      "[array([0.88304923, 0.        , 0.08150376, 0.02089286, 0.        ,\n",
      "       0.38461538, 0.375     , 0.02052632, 1.        , 0.        ,\n",
      "       0.        , 1.        , 0.5       , 0.08      , 0.        ]), array([0.0989873 , 0.        , 0.16917293, 0.03125   , 0.5       ,\n",
      "       1.        , 0.875     , 0.03649123, 1.        , 0.        ,\n",
      "       0.        , 1.        , 0.5       , 0.08      , 0.0586    ]), array([0.80745128, 0.        , 0.54255639, 0.48517857, 0.5       ,\n",
      "       0.23076923, 0.875     , 0.29824561, 1.        , 0.        ,\n",
      "       0.        , 1.        , 0.5       , 0.        , 0.        ]), array([0.00850922, 0.        , 0.22300752, 0.12642857, 0.5       ,\n",
      "       0.15384615, 0.5       , 0.01754386, 1.        , 0.        ,\n",
      "       0.        , 1.        , 0.5       , 0.0855    , 0.        ]), array([4.21657076e-01, 0.00000000e+00, 1.74135338e-01, 7.44642857e-02,\n",
      "       5.00000000e-01, 5.38461538e-01, 8.75000000e-01, 9.64912281e-02,\n",
      "       1.00000000e+00, 0.00000000e+00, 0.00000000e+00, 1.00000000e+00,\n",
      "       5.00000000e-01, 1.80000000e-01, 1.00000000e-05]), array([0.0555362 , 0.        , 0.17037594, 0.09071429, 0.        ,\n",
      "       0.38461538, 0.375     , 0.00877193, 1.        , 0.        ,\n",
      "       0.        , 1.        , 0.5       , 0.185     , 0.        ]), array([0.30682059, 0.        , 0.65157895, 0.01196429, 0.5       ,\n",
      "       0.15384615, 0.5       , 0.03508772, 1.        , 0.        ,\n",
      "       0.        , 1.        , 0.5       , 0.126     , 0.02197   ]), array([6.99850638e-01, 0.00000000e+00, 5.30075188e-01, 5.35714286e-02,\n",
      "       5.00000000e-01, 3.07692308e-01, 2.50000000e-01, 0.00000000e+00,\n",
      "       1.00000000e+00, 0.00000000e+00, 0.00000000e+00, 1.00000000e+00,\n",
      "       5.00000000e-01, 5.00000000e-02, 2.70000000e-04]), array([0.11064394, 0.        , 0.37338346, 0.17857143, 0.5       ,\n",
      "       0.92307692, 0.375     , 0.47368421, 1.        , 0.        ,\n",
      "       0.        , 1.        , 0.5       , 0.49      , 0.        ]), array([0.98517994, 0.        , 0.34586466, 0.18303571, 0.5       ,\n",
      "       0.69230769, 0.375     , 0.1754386 , 1.        , 0.        ,\n",
      "       0.        , 1.        , 0.5       , 0.        , 0.04      ]), array([0.54802206, 0.        , 0.13157895, 0.39285714, 0.        ,\n",
      "       0.76923077, 0.375     , 0.10526316, 1.        , 0.        ,\n",
      "       0.        , 1.        , 0.5       , 0.134     , 0.        ]), array([0.22572068, 0.        , 0.05759398, 0.32142857, 0.5       ,\n",
      "       0.38461538, 0.375     , 0.04824561, 1.        , 0.        ,\n",
      "       0.        , 1.        , 0.5       , 0.        , 0.        ]), array([0.32225332, 0.        , 0.70421053, 0.58928571, 0.5       ,\n",
      "       0.76923077, 0.375     , 0.38596491, 1.        , 0.        ,\n",
      "       0.        , 1.        , 0.5       , 0.0105    , 0.10561   ]), array([0.60142394, 0.        , 0.26796992, 0.125     , 0.5       ,\n",
      "       0.07692308, 0.375     , 0.10526316, 1.        , 0.        ,\n",
      "       0.        , 1.        , 0.5       , 0.15      , 0.        ]), array([0.81139155, 0.        , 0.41473684, 0.03571429, 0.5       ,\n",
      "       0.15384615, 0.5       , 0.07894737, 1.        , 0.        ,\n",
      "       0.        , 1.        , 0.5       , 0.        , 0.003     ]), array([0.86598273, 1.        , 0.63533835, 0.44642857, 0.5       ,\n",
      "       0.23076923, 0.875     , 0.28070175, 1.        , 0.        ,\n",
      "       0.        , 1.        , 0.5       , 0.012     , 0.02028   ]), array([0.73206556, 0.        , 0.36842105, 0.21428571, 0.5       ,\n",
      "       0.23076923, 0.375     , 0.03508772, 1.        , 0.        ,\n",
      "       0.        , 1.        , 0.5       , 0.        , 0.        ]), array([0.49645015, 0.        , 0.22300752, 0.05946429, 0.5       ,\n",
      "       0.76923077, 0.375     , 0.08473684, 1.        , 0.        ,\n",
      "       0.        , 1.        , 0.5       , 0.22      , 0.        ]), array([0.42703491, 0.        , 0.36090226, 0.19642857, 0.5       ,\n",
      "       0.76923077, 0.375     , 0.00438596, 1.        , 0.        ,\n",
      "       0.        , 1.        , 0.5       , 0.114     , 0.        ]), array([0.89264763, 0.        , 0.18045113, 0.01785714, 0.5       ,\n",
      "       0.53846154, 0.875     , 0.03070175, 1.        , 0.        ,\n",
      "       0.        , 1.        , 0.5       , 0.2455    , 0.        ])]\n"
     ]
    }
   ],
   "source": [
    "# Finding the frauds\n",
    "mappings = som.win_map(X)\n",
    "print(mappings[(4,1)])"
   ]
  },
  {
   "cell_type": "code",
   "execution_count": 67,
   "metadata": {},
   "outputs": [
    {
     "name": "stdout",
     "output_type": "stream",
     "text": [
      "(20, 15)\n"
     ]
    },
    {
     "data": {
      "text/plain": [
       "array([1.5590434e+07, 0.0000000e+00, 2.5000000e+01, 8.7500000e-01,\n",
       "       2.0000000e+00, 1.4000000e+01, 8.0000000e+00, 1.0400000e+00,\n",
       "       1.0000000e+00, 0.0000000e+00, 0.0000000e+00, 1.0000000e+00,\n",
       "       2.0000000e+00, 1.6000000e+02, 5.8610000e+03])"
      ]
     },
     "execution_count": 67,
     "metadata": {},
     "output_type": "execute_result"
    }
   ],
   "source": [
    "frauds = sc.inverse_transform(mappings[(4,1)])\n",
    "print(frauds.shape)\n",
    "frauds[1,:]"
   ]
  }
 ],
 "metadata": {
  "kernelspec": {
   "display_name": "Python 3",
   "language": "python",
   "name": "python3"
  },
  "language_info": {
   "codemirror_mode": {
    "name": "ipython",
    "version": 3
   },
   "file_extension": ".py",
   "mimetype": "text/x-python",
   "name": "python",
   "nbconvert_exporter": "python",
   "pygments_lexer": "ipython3",
   "version": "3.6.8"
  }
 },
 "nbformat": 4,
 "nbformat_minor": 4
}
