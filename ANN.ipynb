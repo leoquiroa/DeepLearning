{
  "nbformat": 4,
  "nbformat_minor": 0,
  "metadata": {
    "colab": {
      "name": "ANN.ipynb",
      "provenance": [],
      "collapsed_sections": [],
      "include_colab_link": true
    },
    "kernelspec": {
      "name": "python3",
      "display_name": "Python 3"
    }
  },
  "cells": [
    {
      "cell_type": "markdown",
      "metadata": {
        "id": "view-in-github",
        "colab_type": "text"
      },
      "source": [
        "<a href=\"https://colab.research.google.com/github/leoquiroa/DeepLearning/blob/master/ANN.ipynb\" target=\"_parent\"><img src=\"https://colab.research.google.com/assets/colab-badge.svg\" alt=\"Open In Colab\"/></a>"
      ]
    },
    {
      "cell_type": "code",
      "metadata": {
        "id": "occw2A_-UTWF",
        "colab_type": "code",
        "colab": {}
      },
      "source": [
        "import keras\n",
        "from keras.models import Sequential\n",
        "from keras.layers import Dense\n",
        "\n",
        "import pandas as pd\n",
        "import numpy as np\n",
        "\n",
        "from sklearn.preprocessing import LabelEncoder, OneHotEncoder, StandardScaler\n",
        "from sklearn.compose import make_column_transformer\n",
        "from sklearn.model_selection import train_test_split\n",
        "from sklearn.metrics import confusion_matrix, accuracy_score, precision_score, recall_score, f1_score, average_precision_score, plot_precision_recall_curve\n",
        "\n",
        "%tensorflow_version 1.x"
      ],
      "execution_count": 0,
      "outputs": []
    },
    {
      "cell_type": "code",
      "metadata": {
        "id": "eddb9Y3-yxPN",
        "colab_type": "code",
        "colab": {
          "base_uri": "https://localhost:8080/",
          "height": 35
        },
        "outputId": "8d390f19-c258-4260-94e4-9914cf8215dc"
      },
      "source": [
        "import tensorflow\n",
        "print(tensorflow.__version__)"
      ],
      "execution_count": 27,
      "outputs": [
        {
          "output_type": "stream",
          "text": [
            "1.15.0\n"
          ],
          "name": "stdout"
        }
      ]
    },
    {
      "cell_type": "markdown",
      "metadata": {
        "id": "VqwKq1x_a8yy",
        "colab_type": "text"
      },
      "source": [
        "Data preprocessing"
      ]
    },
    {
      "cell_type": "code",
      "metadata": {
        "id": "4JrP7Xmvb47R",
        "colab_type": "code",
        "outputId": "806c8f35-2fd8-4e65-e5f2-abc8ed038a27",
        "colab": {
          "base_uri": "https://localhost:8080/",
          "height": 244
        }
      },
      "source": [
        "url = \"https://raw.githubusercontent.com/leoquiroa/DeepLearning/master/Data/Churn_Modelling.csv\"\n",
        "dataset = pd.read_csv(\n",
        "    url, \n",
        "    names = [\"RowNumber\",\"CustomerId\",\"Surname\",\"CreditScore\",\"Geography\",\"Gender\",\"Age\",\"Tenure\",\"Balance\",\"NumOfProducts\",\"HasCrCard\",\"IsActiveMember\",\"EstimatedSalary\",\"Exited\"], \n",
        "    skiprows=1)\n",
        "print(dataset.shape)\n",
        "dataset.head()"
      ],
      "execution_count": 2,
      "outputs": [
        {
          "output_type": "stream",
          "text": [
            "(10000, 14)\n"
          ],
          "name": "stdout"
        },
        {
          "output_type": "execute_result",
          "data": {
            "text/html": [
              "<div>\n",
              "<style scoped>\n",
              "    .dataframe tbody tr th:only-of-type {\n",
              "        vertical-align: middle;\n",
              "    }\n",
              "\n",
              "    .dataframe tbody tr th {\n",
              "        vertical-align: top;\n",
              "    }\n",
              "\n",
              "    .dataframe thead th {\n",
              "        text-align: right;\n",
              "    }\n",
              "</style>\n",
              "<table border=\"1\" class=\"dataframe\">\n",
              "  <thead>\n",
              "    <tr style=\"text-align: right;\">\n",
              "      <th></th>\n",
              "      <th>RowNumber</th>\n",
              "      <th>CustomerId</th>\n",
              "      <th>Surname</th>\n",
              "      <th>CreditScore</th>\n",
              "      <th>Geography</th>\n",
              "      <th>Gender</th>\n",
              "      <th>Age</th>\n",
              "      <th>Tenure</th>\n",
              "      <th>Balance</th>\n",
              "      <th>NumOfProducts</th>\n",
              "      <th>HasCrCard</th>\n",
              "      <th>IsActiveMember</th>\n",
              "      <th>EstimatedSalary</th>\n",
              "      <th>Exited</th>\n",
              "    </tr>\n",
              "  </thead>\n",
              "  <tbody>\n",
              "    <tr>\n",
              "      <th>0</th>\n",
              "      <td>1</td>\n",
              "      <td>15634602</td>\n",
              "      <td>Hargrave</td>\n",
              "      <td>619</td>\n",
              "      <td>France</td>\n",
              "      <td>Female</td>\n",
              "      <td>42</td>\n",
              "      <td>2</td>\n",
              "      <td>0.00</td>\n",
              "      <td>1</td>\n",
              "      <td>1</td>\n",
              "      <td>1</td>\n",
              "      <td>101348.88</td>\n",
              "      <td>1</td>\n",
              "    </tr>\n",
              "    <tr>\n",
              "      <th>1</th>\n",
              "      <td>2</td>\n",
              "      <td>15647311</td>\n",
              "      <td>Hill</td>\n",
              "      <td>608</td>\n",
              "      <td>Spain</td>\n",
              "      <td>Female</td>\n",
              "      <td>41</td>\n",
              "      <td>1</td>\n",
              "      <td>83807.86</td>\n",
              "      <td>1</td>\n",
              "      <td>0</td>\n",
              "      <td>1</td>\n",
              "      <td>112542.58</td>\n",
              "      <td>0</td>\n",
              "    </tr>\n",
              "    <tr>\n",
              "      <th>2</th>\n",
              "      <td>3</td>\n",
              "      <td>15619304</td>\n",
              "      <td>Onio</td>\n",
              "      <td>502</td>\n",
              "      <td>France</td>\n",
              "      <td>Female</td>\n",
              "      <td>42</td>\n",
              "      <td>8</td>\n",
              "      <td>159660.80</td>\n",
              "      <td>3</td>\n",
              "      <td>1</td>\n",
              "      <td>0</td>\n",
              "      <td>113931.57</td>\n",
              "      <td>1</td>\n",
              "    </tr>\n",
              "    <tr>\n",
              "      <th>3</th>\n",
              "      <td>4</td>\n",
              "      <td>15701354</td>\n",
              "      <td>Boni</td>\n",
              "      <td>699</td>\n",
              "      <td>France</td>\n",
              "      <td>Female</td>\n",
              "      <td>39</td>\n",
              "      <td>1</td>\n",
              "      <td>0.00</td>\n",
              "      <td>2</td>\n",
              "      <td>0</td>\n",
              "      <td>0</td>\n",
              "      <td>93826.63</td>\n",
              "      <td>0</td>\n",
              "    </tr>\n",
              "    <tr>\n",
              "      <th>4</th>\n",
              "      <td>5</td>\n",
              "      <td>15737888</td>\n",
              "      <td>Mitchell</td>\n",
              "      <td>850</td>\n",
              "      <td>Spain</td>\n",
              "      <td>Female</td>\n",
              "      <td>43</td>\n",
              "      <td>2</td>\n",
              "      <td>125510.82</td>\n",
              "      <td>1</td>\n",
              "      <td>1</td>\n",
              "      <td>1</td>\n",
              "      <td>79084.10</td>\n",
              "      <td>0</td>\n",
              "    </tr>\n",
              "  </tbody>\n",
              "</table>\n",
              "</div>"
            ],
            "text/plain": [
              "   RowNumber  CustomerId   Surname  ...  IsActiveMember EstimatedSalary Exited\n",
              "0          1    15634602  Hargrave  ...               1       101348.88      1\n",
              "1          2    15647311      Hill  ...               1       112542.58      0\n",
              "2          3    15619304      Onio  ...               0       113931.57      1\n",
              "3          4    15701354      Boni  ...               0        93826.63      0\n",
              "4          5    15737888  Mitchell  ...               1        79084.10      0\n",
              "\n",
              "[5 rows x 14 columns]"
            ]
          },
          "metadata": {
            "tags": []
          },
          "execution_count": 2
        }
      ]
    },
    {
      "cell_type": "code",
      "metadata": {
        "id": "YgNCOiq0clLS",
        "colab_type": "code",
        "outputId": "ec948203-7101-4026-ae82-3bf2459538f0",
        "colab": {
          "base_uri": "https://localhost:8080/",
          "height": 53
        }
      },
      "source": [
        "X = dataset.iloc[:, 3:13].values # CreditScore, Geography, Gender, Age, Tenure, Balance, NumOfProducts,\tHasCrCard, IsActiveMember, EstimatedSalary\n",
        "y = dataset.iloc[:, 13].values #Exited\n",
        "print(X.shape)\n",
        "print(y.shape)"
      ],
      "execution_count": 3,
      "outputs": [
        {
          "output_type": "stream",
          "text": [
            "(10000, 10)\n",
            "(10000,)\n"
          ],
          "name": "stdout"
        }
      ]
    },
    {
      "cell_type": "code",
      "metadata": {
        "id": "thfeV-IIitph",
        "colab_type": "code",
        "outputId": "d962dfc1-dfb8-44d3-8e0c-27bf01fcc8f4",
        "colab": {
          "base_uri": "https://localhost:8080/",
          "height": 219
        }
      },
      "source": [
        "X[1:10,:]"
      ],
      "execution_count": 4,
      "outputs": [
        {
          "output_type": "execute_result",
          "data": {
            "text/plain": [
              "array([[608, 'Spain', 'Female', 41, 1, 83807.86, 1, 0, 1, 112542.58],\n",
              "       [502, 'France', 'Female', 42, 8, 159660.8, 3, 1, 0, 113931.57],\n",
              "       [699, 'France', 'Female', 39, 1, 0.0, 2, 0, 0, 93826.63],\n",
              "       [850, 'Spain', 'Female', 43, 2, 125510.82, 1, 1, 1, 79084.1],\n",
              "       [645, 'Spain', 'Male', 44, 8, 113755.78, 2, 1, 0, 149756.71],\n",
              "       [822, 'France', 'Male', 50, 7, 0.0, 2, 1, 1, 10062.8],\n",
              "       [376, 'Germany', 'Female', 29, 4, 115046.74, 4, 1, 0, 119346.88],\n",
              "       [501, 'France', 'Male', 44, 4, 142051.07, 2, 0, 1, 74940.5],\n",
              "       [684, 'France', 'Male', 27, 2, 134603.88, 1, 1, 1, 71725.73]],\n",
              "      dtype=object)"
            ]
          },
          "metadata": {
            "tags": []
          },
          "execution_count": 4
        }
      ]
    },
    {
      "cell_type": "markdown",
      "metadata": {
        "id": "nt4K8a6cnUt6",
        "colab_type": "text"
      },
      "source": [
        "Two categorical variables: Geography and Gender. Apply Label-Encoder."
      ]
    },
    {
      "cell_type": "code",
      "metadata": {
        "id": "M8MBpTnzhrwq",
        "colab_type": "code",
        "outputId": "f8715148-fd4f-4ae1-bb18-e39f51fd86cb",
        "colab": {
          "base_uri": "https://localhost:8080/",
          "height": 90
        }
      },
      "source": [
        "dataset['Geography'].value_counts()"
      ],
      "execution_count": 5,
      "outputs": [
        {
          "output_type": "execute_result",
          "data": {
            "text/plain": [
              "France     5014\n",
              "Germany    2509\n",
              "Spain      2477\n",
              "Name: Geography, dtype: int64"
            ]
          },
          "metadata": {
            "tags": []
          },
          "execution_count": 5
        }
      ]
    },
    {
      "cell_type": "code",
      "metadata": {
        "id": "vzuWRO9Rih7V",
        "colab_type": "code",
        "outputId": "1b085b14-b34c-41d0-a0a9-4b3c1ece760e",
        "colab": {
          "base_uri": "https://localhost:8080/",
          "height": 72
        }
      },
      "source": [
        "dataset['Gender'].value_counts()"
      ],
      "execution_count": 6,
      "outputs": [
        {
          "output_type": "execute_result",
          "data": {
            "text/plain": [
              "Male      5457\n",
              "Female    4543\n",
              "Name: Gender, dtype: int64"
            ]
          },
          "metadata": {
            "tags": []
          },
          "execution_count": 6
        }
      ]
    },
    {
      "cell_type": "code",
      "metadata": {
        "id": "OMneFJeNhine",
        "colab_type": "code",
        "colab": {}
      },
      "source": [
        "# Encoding categorical data (Geography and Gender)\n",
        "labelencoder_1 = LabelEncoder()\n",
        "X[:, 1] = labelencoder_1.fit_transform(X[:, 1])\n",
        "labelencoder_2 = LabelEncoder()\n",
        "X[:, 2] = labelencoder_2.fit_transform(X[:, 2])"
      ],
      "execution_count": 0,
      "outputs": []
    },
    {
      "cell_type": "code",
      "metadata": {
        "id": "nAlAb3Tlk7qB",
        "colab_type": "code",
        "outputId": "8e75252c-eb57-4103-cfce-efcaad81d3a5",
        "colab": {
          "base_uri": "https://localhost:8080/",
          "height": 201
        }
      },
      "source": [
        "X[1:10,:]"
      ],
      "execution_count": 8,
      "outputs": [
        {
          "output_type": "execute_result",
          "data": {
            "text/plain": [
              "array([[608, 2, 0, 41, 1, 83807.86, 1, 0, 1, 112542.58],\n",
              "       [502, 0, 0, 42, 8, 159660.8, 3, 1, 0, 113931.57],\n",
              "       [699, 0, 0, 39, 1, 0.0, 2, 0, 0, 93826.63],\n",
              "       [850, 2, 0, 43, 2, 125510.82, 1, 1, 1, 79084.1],\n",
              "       [645, 2, 1, 44, 8, 113755.78, 2, 1, 0, 149756.71],\n",
              "       [822, 0, 1, 50, 7, 0.0, 2, 1, 1, 10062.8],\n",
              "       [376, 1, 0, 29, 4, 115046.74, 4, 1, 0, 119346.88],\n",
              "       [501, 0, 1, 44, 4, 142051.07, 2, 0, 1, 74940.5],\n",
              "       [684, 0, 1, 27, 2, 134603.88, 1, 1, 1, 71725.73]], dtype=object)"
            ]
          },
          "metadata": {
            "tags": []
          },
          "execution_count": 8
        }
      ]
    },
    {
      "cell_type": "markdown",
      "metadata": {
        "id": "vyJwOgPFneTx",
        "colab_type": "text"
      },
      "source": [
        "Create dummy variables for the Geography (since it has > 2 categories) with One-Hot-Encoder"
      ]
    },
    {
      "cell_type": "code",
      "metadata": {
        "id": "DvNM5ZRdlE-1",
        "colab_type": "code",
        "colab": {}
      },
      "source": [
        "A = make_column_transformer(\n",
        "    (OneHotEncoder(categories='auto'), [1]), \n",
        "    remainder=\"passthrough\")\n",
        "X=A.fit_transform(X)"
      ],
      "execution_count": 0,
      "outputs": []
    },
    {
      "cell_type": "code",
      "metadata": {
        "id": "q-VKcav5mTn5",
        "colab_type": "code",
        "outputId": "6f60f6ee-258d-43d4-b247-ffd0cd8ee520",
        "colab": {
          "base_uri": "https://localhost:8080/",
          "height": 219
        }
      },
      "source": [
        "X[1:10,:]"
      ],
      "execution_count": 10,
      "outputs": [
        {
          "output_type": "execute_result",
          "data": {
            "text/plain": [
              "array([[0.0, 0.0, 1.0, 608, 0, 41, 1, 83807.86, 1, 0, 1, 112542.58],\n",
              "       [1.0, 0.0, 0.0, 502, 0, 42, 8, 159660.8, 3, 1, 0, 113931.57],\n",
              "       [1.0, 0.0, 0.0, 699, 0, 39, 1, 0.0, 2, 0, 0, 93826.63],\n",
              "       [0.0, 0.0, 1.0, 850, 0, 43, 2, 125510.82, 1, 1, 1, 79084.1],\n",
              "       [0.0, 0.0, 1.0, 645, 1, 44, 8, 113755.78, 2, 1, 0, 149756.71],\n",
              "       [1.0, 0.0, 0.0, 822, 1, 50, 7, 0.0, 2, 1, 1, 10062.8],\n",
              "       [0.0, 1.0, 0.0, 376, 0, 29, 4, 115046.74, 4, 1, 0, 119346.88],\n",
              "       [1.0, 0.0, 0.0, 501, 1, 44, 4, 142051.07, 2, 0, 1, 74940.5],\n",
              "       [1.0, 0.0, 0.0, 684, 1, 27, 2, 134603.88, 1, 1, 1, 71725.73]],\n",
              "      dtype=object)"
            ]
          },
          "metadata": {
            "tags": []
          },
          "execution_count": 10
        }
      ]
    },
    {
      "cell_type": "markdown",
      "metadata": {
        "id": "3GurXbCR2S6u",
        "colab_type": "text"
      },
      "source": [
        "Geography\n",
        "* France (0)\n",
        "* Germany (1)\n",
        "* Spain (2)\n",
        "* Remove France\n",
        "\n",
        "Gender\n",
        "* Male (1)\n",
        "* Female (0)"
      ]
    },
    {
      "cell_type": "markdown",
      "metadata": {
        "id": "lIldwNFin8KC",
        "colab_type": "text"
      },
      "source": [
        "Avoid the Dummy variable trap by removing the first column. Now, it has only two columns for the country."
      ]
    },
    {
      "cell_type": "code",
      "metadata": {
        "id": "MoCI2b2AoVJ8",
        "colab_type": "code",
        "colab": {}
      },
      "source": [
        "X = X[:, 1:]"
      ],
      "execution_count": 0,
      "outputs": []
    },
    {
      "cell_type": "code",
      "metadata": {
        "id": "41huMUiwoZr9",
        "colab_type": "code",
        "outputId": "7b7dc1ba-17bb-4fe3-ed3b-5717395fe0f0",
        "colab": {
          "base_uri": "https://localhost:8080/",
          "height": 199
        }
      },
      "source": [
        "X[1:10,:]"
      ],
      "execution_count": 12,
      "outputs": [
        {
          "output_type": "execute_result",
          "data": {
            "text/plain": [
              "array([[0.0, 1.0, 608, 0, 41, 1, 83807.86, 1, 0, 1, 112542.58],\n",
              "       [0.0, 0.0, 502, 0, 42, 8, 159660.8, 3, 1, 0, 113931.57],\n",
              "       [0.0, 0.0, 699, 0, 39, 1, 0.0, 2, 0, 0, 93826.63],\n",
              "       [0.0, 1.0, 850, 0, 43, 2, 125510.82, 1, 1, 1, 79084.1],\n",
              "       [0.0, 1.0, 645, 1, 44, 8, 113755.78, 2, 1, 0, 149756.71],\n",
              "       [0.0, 0.0, 822, 1, 50, 7, 0.0, 2, 1, 1, 10062.8],\n",
              "       [1.0, 0.0, 376, 0, 29, 4, 115046.74, 4, 1, 0, 119346.88],\n",
              "       [0.0, 0.0, 501, 1, 44, 4, 142051.07, 2, 0, 1, 74940.5],\n",
              "       [0.0, 0.0, 684, 1, 27, 2, 134603.88, 1, 1, 1, 71725.73]],\n",
              "      dtype=object)"
            ]
          },
          "metadata": {
            "tags": []
          },
          "execution_count": 12
        }
      ]
    },
    {
      "cell_type": "markdown",
      "metadata": {
        "id": "eGrKOYUBonaS",
        "colab_type": "text"
      },
      "source": [
        "Splitting the dataset into the Training set and Test set"
      ]
    },
    {
      "cell_type": "code",
      "metadata": {
        "id": "ZErnRPt5orG8",
        "colab_type": "code",
        "outputId": "69f9209a-90da-42ed-fdef-7ad48b144776",
        "colab": {
          "base_uri": "https://localhost:8080/",
          "height": 53
        }
      },
      "source": [
        "X_train, X_test, y_train, y_test = train_test_split(X, y, test_size = 0.2, random_state = 0)\n",
        "print(X_train.shape)\n",
        "print(X_test.shape)"
      ],
      "execution_count": 13,
      "outputs": [
        {
          "output_type": "stream",
          "text": [
            "(8000, 11)\n",
            "(2000, 11)\n"
          ],
          "name": "stdout"
        }
      ]
    },
    {
      "cell_type": "markdown",
      "metadata": {
        "id": "UIDBUfaFo9rJ",
        "colab_type": "text"
      },
      "source": [
        "Feature Scaling. We don't one independent variable dominating another one."
      ]
    },
    {
      "cell_type": "code",
      "metadata": {
        "id": "t5u2EIXtpPJK",
        "colab_type": "code",
        "colab": {}
      },
      "source": [
        "sc = StandardScaler()\n",
        "X_train = sc.fit_transform(X_train)\n",
        "X_test = sc.transform(X_test)"
      ],
      "execution_count": 0,
      "outputs": []
    },
    {
      "cell_type": "code",
      "metadata": {
        "id": "VP1i8L3Nqbhy",
        "colab_type": "code",
        "outputId": "0c1b5d7f-a903-4ded-ed6f-d599d94c7d9d",
        "colab": {
          "base_uri": "https://localhost:8080/",
          "height": 72
        }
      },
      "source": [
        "print(X.shape)\n",
        "print(X_train.shape)\n",
        "print(X_test.shape)"
      ],
      "execution_count": 15,
      "outputs": [
        {
          "output_type": "stream",
          "text": [
            "(10000, 11)\n",
            "(8000, 11)\n",
            "(2000, 11)\n"
          ],
          "name": "stdout"
        }
      ]
    },
    {
      "cell_type": "code",
      "metadata": {
        "id": "nJ7gHn7tp1ch",
        "colab_type": "code",
        "outputId": "d632adb2-b5e2-4220-b845-f8d9ea61ad2a",
        "colab": {
          "base_uri": "https://localhost:8080/",
          "height": 126
        }
      },
      "source": [
        "print(min(X[:,2]))\n",
        "print(max(X[:,2]))\n",
        "print(min(X_train[:,2]))\n",
        "print(max(X_train[:,2]))\n",
        "print(min(X_test[:,2]))\n",
        "print(max(X_test[:,2]))"
      ],
      "execution_count": 16,
      "outputs": [
        {
          "output_type": "stream",
          "text": [
            "350\n",
            "850\n",
            "-3.0983464242408694\n",
            "2.0561144379132976\n",
            "-2.943712598376244\n",
            "2.0561144379132976\n"
          ],
          "name": "stdout"
        }
      ]
    },
    {
      "cell_type": "markdown",
      "metadata": {
        "id": "OculGzGDrU8c",
        "colab_type": "text"
      },
      "source": [
        "Initialize the DL model\n",
        "1. Defining the sequence of layers (*)\n",
        "2. Defining a graph\n",
        "\n",
        "Activation Functions\n",
        "* Relu for hidden layers\n",
        "* Sigmoid as output (probabilities)\n",
        "* Softmax for more than two categories\n",
        "\n",
        "**Back-Propagation:**\n",
        "Update the weights according to how much they are responsible for the error\n",
        "\n",
        "**The Learning Rate:**\n",
        "Decides how much we update the weights\n",
        "\n",
        "Update the weights after observations\n",
        "* one (Reinforcement Learning)\n",
        "* batch (Batch Learning)\n",
        "\n",
        "**Number of nodes**\n",
        "* Art: average of input+output\n",
        "* Not Art: Grid search for parameter tunning \n",
        "\n",
        "**Optimizer**, the algorithm to find the optimal set of weights in the NN. Stochastic Gradient Descent. (i.e. Adam)\n",
        "\n",
        "**Loss**\n",
        "* categorical_crossentropy > 2 categories has outcome\n",
        "* binary_crossentropy = binary outcome\n",
        "\n",
        "**Batch size**\n",
        "The number of observations after which you want to update the weight"
      ]
    },
    {
      "cell_type": "code",
      "metadata": {
        "id": "FssgiGZy9Upw",
        "colab_type": "code",
        "colab": {
          "base_uri": "https://localhost:8080/",
          "height": 273
        },
        "outputId": "b3640ded-8625-475d-89a4-8c0f69ac28c8"
      },
      "source": [
        "classifier = Sequential()\n",
        "# input layer and first hidden layer\n",
        "classifier.add(\n",
        "    Dense(\n",
        "        kernel_initializer='uniform'\n",
        "        ,input_dim=11\n",
        "        ,activation='relu'\n",
        "        ,units=6\n",
        "        )\n",
        "    )\n",
        "# second hidden layer\n",
        "classifier.add(\n",
        "    Dense(\n",
        "        kernel_initializer='uniform'\n",
        "        ,units=6\n",
        "        ,activation='relu'\n",
        "        )\n",
        "    )\n",
        "# output layer\n",
        "classifier.add(\n",
        "    Dense(\n",
        "        kernel_initializer='uniform'\n",
        "        ,units=1\n",
        "        ,activation='sigmoid'\n",
        "        )\n",
        "    )\n",
        "#compile\n",
        "classifier.compile(\n",
        "    optimizer='adam'\n",
        "    ,loss='binary_crossentropy'\n",
        "    ,metrics = ['accuracy']\n",
        "    )"
      ],
      "execution_count": 17,
      "outputs": [
        {
          "output_type": "stream",
          "text": [
            "WARNING:tensorflow:From /usr/local/lib/python3.6/dist-packages/keras/backend/tensorflow_backend.py:66: The name tf.get_default_graph is deprecated. Please use tf.compat.v1.get_default_graph instead.\n",
            "\n",
            "WARNING:tensorflow:From /usr/local/lib/python3.6/dist-packages/keras/backend/tensorflow_backend.py:541: The name tf.placeholder is deprecated. Please use tf.compat.v1.placeholder instead.\n",
            "\n",
            "WARNING:tensorflow:From /usr/local/lib/python3.6/dist-packages/keras/backend/tensorflow_backend.py:4432: The name tf.random_uniform is deprecated. Please use tf.random.uniform instead.\n",
            "\n",
            "WARNING:tensorflow:From /usr/local/lib/python3.6/dist-packages/keras/optimizers.py:793: The name tf.train.Optimizer is deprecated. Please use tf.compat.v1.train.Optimizer instead.\n",
            "\n",
            "WARNING:tensorflow:From /usr/local/lib/python3.6/dist-packages/keras/backend/tensorflow_backend.py:3657: The name tf.log is deprecated. Please use tf.math.log instead.\n",
            "\n",
            "WARNING:tensorflow:From /usr/local/lib/python3.6/dist-packages/tensorflow_core/python/ops/nn_impl.py:183: where (from tensorflow.python.ops.array_ops) is deprecated and will be removed in a future version.\n",
            "Instructions for updating:\n",
            "Use tf.where in 2.0, which has the same broadcast rule as np.where\n"
          ],
          "name": "stdout"
        }
      ]
    },
    {
      "cell_type": "code",
      "metadata": {
        "id": "-zOWLAQ6sqFn",
        "colab_type": "code",
        "outputId": "4a4ab289-7c85-4cd2-ee0d-481ac5e4fb4b",
        "colab": {
          "base_uri": "https://localhost:8080/",
          "height": 1000
        }
      },
      "source": [
        "classifier.fit(x=X_train,y=y_train,batch_size=10,epochs=100)"
      ],
      "execution_count": 18,
      "outputs": [
        {
          "output_type": "stream",
          "text": [
            "WARNING:tensorflow:From /usr/local/lib/python3.6/dist-packages/keras/backend/tensorflow_backend.py:1033: The name tf.assign_add is deprecated. Please use tf.compat.v1.assign_add instead.\n",
            "\n",
            "WARNING:tensorflow:From /usr/local/lib/python3.6/dist-packages/keras/backend/tensorflow_backend.py:1020: The name tf.assign is deprecated. Please use tf.compat.v1.assign instead.\n",
            "\n",
            "WARNING:tensorflow:From /usr/local/lib/python3.6/dist-packages/keras/backend/tensorflow_backend.py:3005: The name tf.Session is deprecated. Please use tf.compat.v1.Session instead.\n",
            "\n",
            "Epoch 1/100\n",
            "WARNING:tensorflow:From /usr/local/lib/python3.6/dist-packages/keras/backend/tensorflow_backend.py:190: The name tf.get_default_session is deprecated. Please use tf.compat.v1.get_default_session instead.\n",
            "\n",
            "WARNING:tensorflow:From /usr/local/lib/python3.6/dist-packages/keras/backend/tensorflow_backend.py:197: The name tf.ConfigProto is deprecated. Please use tf.compat.v1.ConfigProto instead.\n",
            "\n",
            "WARNING:tensorflow:From /usr/local/lib/python3.6/dist-packages/keras/backend/tensorflow_backend.py:207: The name tf.global_variables is deprecated. Please use tf.compat.v1.global_variables instead.\n",
            "\n",
            "WARNING:tensorflow:From /usr/local/lib/python3.6/dist-packages/keras/backend/tensorflow_backend.py:216: The name tf.is_variable_initialized is deprecated. Please use tf.compat.v1.is_variable_initialized instead.\n",
            "\n",
            "WARNING:tensorflow:From /usr/local/lib/python3.6/dist-packages/keras/backend/tensorflow_backend.py:223: The name tf.variables_initializer is deprecated. Please use tf.compat.v1.variables_initializer instead.\n",
            "\n",
            "8000/8000 [==============================] - 1s 187us/step - loss: 0.4839 - acc: 0.7954\n",
            "Epoch 2/100\n",
            "8000/8000 [==============================] - 1s 115us/step - loss: 0.4268 - acc: 0.7960\n",
            "Epoch 3/100\n",
            "8000/8000 [==============================] - 1s 117us/step - loss: 0.4220 - acc: 0.7990\n",
            "Epoch 4/100\n",
            "8000/8000 [==============================] - 1s 120us/step - loss: 0.4184 - acc: 0.8210\n",
            "Epoch 5/100\n",
            "8000/8000 [==============================] - 1s 116us/step - loss: 0.4162 - acc: 0.8262\n",
            "Epoch 6/100\n",
            "8000/8000 [==============================] - 1s 115us/step - loss: 0.4144 - acc: 0.8287\n",
            "Epoch 7/100\n",
            "8000/8000 [==============================] - 1s 123us/step - loss: 0.4131 - acc: 0.8315\n",
            "Epoch 8/100\n",
            "8000/8000 [==============================] - 1s 116us/step - loss: 0.4122 - acc: 0.8324\n",
            "Epoch 9/100\n",
            "8000/8000 [==============================] - 1s 117us/step - loss: 0.4104 - acc: 0.8320\n",
            "Epoch 10/100\n",
            "8000/8000 [==============================] - 1s 116us/step - loss: 0.4101 - acc: 0.8331\n",
            "Epoch 11/100\n",
            "8000/8000 [==============================] - 1s 123us/step - loss: 0.4086 - acc: 0.8362\n",
            "Epoch 12/100\n",
            "8000/8000 [==============================] - 1s 129us/step - loss: 0.4079 - acc: 0.8346\n",
            "Epoch 13/100\n",
            "8000/8000 [==============================] - 1s 132us/step - loss: 0.4074 - acc: 0.8346\n",
            "Epoch 14/100\n",
            "8000/8000 [==============================] - 1s 130us/step - loss: 0.4065 - acc: 0.8352\n",
            "Epoch 15/100\n",
            "8000/8000 [==============================] - 1s 131us/step - loss: 0.4064 - acc: 0.8341\n",
            "Epoch 16/100\n",
            "8000/8000 [==============================] - 1s 131us/step - loss: 0.4057 - acc: 0.8345\n",
            "Epoch 17/100\n",
            "8000/8000 [==============================] - 1s 123us/step - loss: 0.4054 - acc: 0.8349\n",
            "Epoch 18/100\n",
            "8000/8000 [==============================] - 1s 116us/step - loss: 0.4052 - acc: 0.8344\n",
            "Epoch 19/100\n",
            "8000/8000 [==============================] - 1s 118us/step - loss: 0.4049 - acc: 0.8354\n",
            "Epoch 20/100\n",
            "8000/8000 [==============================] - 1s 127us/step - loss: 0.4043 - acc: 0.8351\n",
            "Epoch 21/100\n",
            "8000/8000 [==============================] - 1s 116us/step - loss: 0.4040 - acc: 0.8356\n",
            "Epoch 22/100\n",
            "8000/8000 [==============================] - 1s 119us/step - loss: 0.4037 - acc: 0.8351\n",
            "Epoch 23/100\n",
            "8000/8000 [==============================] - 1s 119us/step - loss: 0.4036 - acc: 0.8351\n",
            "Epoch 24/100\n",
            "8000/8000 [==============================] - 1s 116us/step - loss: 0.4037 - acc: 0.8345\n",
            "Epoch 25/100\n",
            "8000/8000 [==============================] - 1s 116us/step - loss: 0.4033 - acc: 0.8354\n",
            "Epoch 26/100\n",
            "8000/8000 [==============================] - 1s 116us/step - loss: 0.4025 - acc: 0.8341\n",
            "Epoch 27/100\n",
            "8000/8000 [==============================] - 1s 117us/step - loss: 0.4025 - acc: 0.8342\n",
            "Epoch 28/100\n",
            "8000/8000 [==============================] - 1s 123us/step - loss: 0.4022 - acc: 0.8349\n",
            "Epoch 29/100\n",
            "8000/8000 [==============================] - 1s 114us/step - loss: 0.4027 - acc: 0.8341\n",
            "Epoch 30/100\n",
            "8000/8000 [==============================] - 1s 118us/step - loss: 0.4023 - acc: 0.8356\n",
            "Epoch 31/100\n",
            "8000/8000 [==============================] - 1s 118us/step - loss: 0.4018 - acc: 0.8365\n",
            "Epoch 32/100\n",
            "8000/8000 [==============================] - 1s 115us/step - loss: 0.4019 - acc: 0.8370\n",
            "Epoch 33/100\n",
            "8000/8000 [==============================] - 1s 112us/step - loss: 0.4023 - acc: 0.8344\n",
            "Epoch 34/100\n",
            "8000/8000 [==============================] - 1s 116us/step - loss: 0.4017 - acc: 0.8345\n",
            "Epoch 35/100\n",
            "8000/8000 [==============================] - 1s 123us/step - loss: 0.4015 - acc: 0.8340\n",
            "Epoch 36/100\n",
            "8000/8000 [==============================] - 1s 114us/step - loss: 0.4017 - acc: 0.8345\n",
            "Epoch 37/100\n",
            "8000/8000 [==============================] - 1s 114us/step - loss: 0.4011 - acc: 0.8356\n",
            "Epoch 38/100\n",
            "8000/8000 [==============================] - 1s 116us/step - loss: 0.4009 - acc: 0.8365\n",
            "Epoch 39/100\n",
            "8000/8000 [==============================] - 1s 118us/step - loss: 0.4008 - acc: 0.8356\n",
            "Epoch 40/100\n",
            "8000/8000 [==============================] - 1s 119us/step - loss: 0.4005 - acc: 0.8347\n",
            "Epoch 41/100\n",
            "8000/8000 [==============================] - 1s 129us/step - loss: 0.4005 - acc: 0.8361\n",
            "Epoch 42/100\n",
            "8000/8000 [==============================] - 1s 117us/step - loss: 0.4004 - acc: 0.8356\n",
            "Epoch 43/100\n",
            "8000/8000 [==============================] - 1s 124us/step - loss: 0.4001 - acc: 0.8350\n",
            "Epoch 44/100\n",
            "8000/8000 [==============================] - 1s 116us/step - loss: 0.3990 - acc: 0.8357\n",
            "Epoch 45/100\n",
            "8000/8000 [==============================] - 1s 117us/step - loss: 0.3993 - acc: 0.8359\n",
            "Epoch 46/100\n",
            "8000/8000 [==============================] - 1s 121us/step - loss: 0.3990 - acc: 0.8341\n",
            "Epoch 47/100\n",
            "8000/8000 [==============================] - 1s 126us/step - loss: 0.3987 - acc: 0.8365\n",
            "Epoch 48/100\n",
            "8000/8000 [==============================] - 1s 126us/step - loss: 0.3980 - acc: 0.8350\n",
            "Epoch 49/100\n",
            "8000/8000 [==============================] - 1s 114us/step - loss: 0.3986 - acc: 0.8366\n",
            "Epoch 50/100\n",
            "8000/8000 [==============================] - 1s 118us/step - loss: 0.3979 - acc: 0.8370\n",
            "Epoch 51/100\n",
            "8000/8000 [==============================] - 1s 114us/step - loss: 0.3978 - acc: 0.8380\n",
            "Epoch 52/100\n",
            "8000/8000 [==============================] - 1s 115us/step - loss: 0.3974 - acc: 0.8372\n",
            "Epoch 53/100\n",
            "8000/8000 [==============================] - 1s 116us/step - loss: 0.3968 - acc: 0.8359\n",
            "Epoch 54/100\n",
            "8000/8000 [==============================] - 1s 116us/step - loss: 0.3975 - acc: 0.8341\n",
            "Epoch 55/100\n",
            "8000/8000 [==============================] - 1s 118us/step - loss: 0.3974 - acc: 0.8342\n",
            "Epoch 56/100\n",
            "8000/8000 [==============================] - 1s 122us/step - loss: 0.3965 - acc: 0.8360\n",
            "Epoch 57/100\n",
            "8000/8000 [==============================] - 1s 117us/step - loss: 0.3967 - acc: 0.8362\n",
            "Epoch 58/100\n",
            "8000/8000 [==============================] - 1s 116us/step - loss: 0.3971 - acc: 0.8366\n",
            "Epoch 59/100\n",
            "8000/8000 [==============================] - 1s 118us/step - loss: 0.3965 - acc: 0.8371\n",
            "Epoch 60/100\n",
            "8000/8000 [==============================] - 1s 114us/step - loss: 0.3966 - acc: 0.8354\n",
            "Epoch 61/100\n",
            "8000/8000 [==============================] - 1s 123us/step - loss: 0.3963 - acc: 0.8379\n",
            "Epoch 62/100\n",
            "8000/8000 [==============================] - 1s 114us/step - loss: 0.3967 - acc: 0.8366\n",
            "Epoch 63/100\n",
            "8000/8000 [==============================] - 1s 117us/step - loss: 0.3965 - acc: 0.8377\n",
            "Epoch 64/100\n",
            "8000/8000 [==============================] - 1s 124us/step - loss: 0.3962 - acc: 0.8367\n",
            "Epoch 65/100\n",
            "8000/8000 [==============================] - 1s 117us/step - loss: 0.3964 - acc: 0.8362\n",
            "Epoch 66/100\n",
            "8000/8000 [==============================] - 1s 115us/step - loss: 0.3966 - acc: 0.8385\n",
            "Epoch 67/100\n",
            "8000/8000 [==============================] - 1s 116us/step - loss: 0.3968 - acc: 0.8371\n",
            "Epoch 68/100\n",
            "8000/8000 [==============================] - 1s 119us/step - loss: 0.3965 - acc: 0.8370\n",
            "Epoch 69/100\n",
            "8000/8000 [==============================] - 1s 114us/step - loss: 0.3965 - acc: 0.8380\n",
            "Epoch 70/100\n",
            "8000/8000 [==============================] - 1s 115us/step - loss: 0.3964 - acc: 0.8370\n",
            "Epoch 71/100\n",
            "8000/8000 [==============================] - 1s 117us/step - loss: 0.3956 - acc: 0.8365\n",
            "Epoch 72/100\n",
            "8000/8000 [==============================] - 1s 119us/step - loss: 0.3961 - acc: 0.8370\n",
            "Epoch 73/100\n",
            "8000/8000 [==============================] - 1s 113us/step - loss: 0.3965 - acc: 0.8367\n",
            "Epoch 74/100\n",
            "8000/8000 [==============================] - 1s 116us/step - loss: 0.3959 - acc: 0.8376\n",
            "Epoch 75/100\n",
            "8000/8000 [==============================] - 1s 121us/step - loss: 0.3961 - acc: 0.8376\n",
            "Epoch 76/100\n",
            "8000/8000 [==============================] - 1s 115us/step - loss: 0.3963 - acc: 0.8369\n",
            "Epoch 77/100\n",
            "8000/8000 [==============================] - 1s 116us/step - loss: 0.3957 - acc: 0.8370\n",
            "Epoch 78/100\n",
            "8000/8000 [==============================] - 1s 118us/step - loss: 0.3953 - acc: 0.8366\n",
            "Epoch 79/100\n",
            "8000/8000 [==============================] - 1s 130us/step - loss: 0.3957 - acc: 0.8375\n",
            "Epoch 80/100\n",
            "8000/8000 [==============================] - 1s 112us/step - loss: 0.3955 - acc: 0.8359\n",
            "Epoch 81/100\n",
            "8000/8000 [==============================] - 1s 115us/step - loss: 0.3957 - acc: 0.8366\n",
            "Epoch 82/100\n",
            "8000/8000 [==============================] - 1s 115us/step - loss: 0.3957 - acc: 0.8369\n",
            "Epoch 83/100\n",
            "8000/8000 [==============================] - 1s 113us/step - loss: 0.3954 - acc: 0.8369\n",
            "Epoch 84/100\n",
            "8000/8000 [==============================] - 1s 115us/step - loss: 0.3951 - acc: 0.8375\n",
            "Epoch 85/100\n",
            "8000/8000 [==============================] - 1s 117us/step - loss: 0.3953 - acc: 0.8370\n",
            "Epoch 86/100\n",
            "8000/8000 [==============================] - 1s 119us/step - loss: 0.3955 - acc: 0.8369\n",
            "Epoch 87/100\n",
            "8000/8000 [==============================] - 1s 116us/step - loss: 0.3955 - acc: 0.8391\n",
            "Epoch 88/100\n",
            "8000/8000 [==============================] - 1s 116us/step - loss: 0.3955 - acc: 0.8350\n",
            "Epoch 89/100\n",
            "8000/8000 [==============================] - 1s 122us/step - loss: 0.3956 - acc: 0.8366\n",
            "Epoch 90/100\n",
            "8000/8000 [==============================] - 1s 120us/step - loss: 0.3954 - acc: 0.8387\n",
            "Epoch 91/100\n",
            "8000/8000 [==============================] - 1s 118us/step - loss: 0.3948 - acc: 0.8376\n",
            "Epoch 92/100\n",
            "8000/8000 [==============================] - 1s 117us/step - loss: 0.3952 - acc: 0.8369\n",
            "Epoch 93/100\n",
            "8000/8000 [==============================] - 1s 119us/step - loss: 0.3951 - acc: 0.8379\n",
            "Epoch 94/100\n",
            "8000/8000 [==============================] - 1s 115us/step - loss: 0.3952 - acc: 0.8374\n",
            "Epoch 95/100\n",
            "8000/8000 [==============================] - 1s 117us/step - loss: 0.3950 - acc: 0.8392\n",
            "Epoch 96/100\n",
            "8000/8000 [==============================] - 1s 119us/step - loss: 0.3947 - acc: 0.8374\n",
            "Epoch 97/100\n",
            "8000/8000 [==============================] - 1s 118us/step - loss: 0.3951 - acc: 0.8372\n",
            "Epoch 98/100\n",
            "8000/8000 [==============================] - 1s 118us/step - loss: 0.3946 - acc: 0.8367\n",
            "Epoch 99/100\n",
            "8000/8000 [==============================] - 1s 117us/step - loss: 0.3947 - acc: 0.8379\n",
            "Epoch 100/100\n",
            "8000/8000 [==============================] - 1s 116us/step - loss: 0.3946 - acc: 0.8380\n"
          ],
          "name": "stdout"
        },
        {
          "output_type": "execute_result",
          "data": {
            "text/plain": [
              "<keras.callbacks.History at 0x7fb299153400>"
            ]
          },
          "metadata": {
            "tags": []
          },
          "execution_count": 18
        }
      ]
    },
    {
      "cell_type": "code",
      "metadata": {
        "id": "-c46xonh9aCb",
        "colab_type": "code",
        "outputId": "cd6efbd9-ec5e-4c12-c818-9ada248f104d",
        "colab": {
          "base_uri": "https://localhost:8080/",
          "height": 199
        }
      },
      "source": [
        "y_pred = classifier.predict(X_test)\n",
        "print(y_pred.shape)\n",
        "y_pred[1:10,:]"
      ],
      "execution_count": 19,
      "outputs": [
        {
          "output_type": "stream",
          "text": [
            "(2000, 1)\n"
          ],
          "name": "stdout"
        },
        {
          "output_type": "execute_result",
          "data": {
            "text/plain": [
              "array([[0.3122647 ],\n",
              "       [0.16596654],\n",
              "       [0.04954922],\n",
              "       [0.16718063],\n",
              "       [0.87469333],\n",
              "       [0.12094805],\n",
              "       [0.06944406],\n",
              "       [0.16374594],\n",
              "       [0.87506545]], dtype=float32)"
            ]
          },
          "metadata": {
            "tags": []
          },
          "execution_count": 19
        }
      ]
    },
    {
      "cell_type": "markdown",
      "metadata": {
        "id": "C1P2omqC95Tf",
        "colab_type": "text"
      },
      "source": [
        "* The percentage indicates the probability that certain customer is most likely to leave the bank.\n",
        "* Segment the 10% of their customers with the highest probabilities and then analyze them in more depth with data-mining techniques."
      ]
    },
    {
      "cell_type": "code",
      "metadata": {
        "id": "rkqx-ngg-kRb",
        "colab_type": "code",
        "colab": {}
      },
      "source": [
        "threshold = 0.5\n",
        "y_pred = (y_pred>threshold)"
      ],
      "execution_count": 0,
      "outputs": []
    },
    {
      "cell_type": "code",
      "metadata": {
        "id": "iWKiyKKL-afi",
        "colab_type": "code",
        "outputId": "ce38b48c-e568-4c5c-83e0-49b468fb2378",
        "colab": {
          "base_uri": "https://localhost:8080/",
          "height": 53
        }
      },
      "source": [
        "cm = confusion_matrix(y_test,y_pred)\n",
        "cm"
      ],
      "execution_count": 21,
      "outputs": [
        {
          "output_type": "execute_result",
          "data": {
            "text/plain": [
              "array([[1548,   47],\n",
              "       [ 253,  152]])"
            ]
          },
          "metadata": {
            "tags": []
          },
          "execution_count": 21
        }
      ]
    },
    {
      "cell_type": "code",
      "metadata": {
        "id": "kjzFzi3N_W0E",
        "colab_type": "code",
        "outputId": "7c3b0a32-3e3a-4ef8-c5e7-b31b94230bd3",
        "colab": {
          "base_uri": "https://localhost:8080/",
          "height": 90
        }
      },
      "source": [
        "print('accuracy_score: ',accuracy_score(y_test, y_pred))\n",
        "print('precision_score: ',precision_score(y_test, y_pred))\n",
        "print('recall_score: ',recall_score(y_test, y_pred))\n",
        "print('f1_score: ',f1_score(y_test, y_pred))"
      ],
      "execution_count": 22,
      "outputs": [
        {
          "output_type": "stream",
          "text": [
            "accuracy_score:  0.85\n",
            "precision_score:  0.7638190954773869\n",
            "recall_score:  0.37530864197530867\n",
            "f1_score:  0.5033112582781457\n"
          ],
          "name": "stdout"
        }
      ]
    },
    {
      "cell_type": "code",
      "metadata": {
        "id": "h4g1elzKAVxz",
        "colab_type": "code",
        "outputId": "4a8bc898-cef8-4c82-f36a-dde94712f3c0",
        "colab": {
          "base_uri": "https://localhost:8080/",
          "height": 35
        }
      },
      "source": [
        "average_precision = average_precision_score(y_test, y_pred)\n",
        "print('Average precision-recall score: {0:0.2f}'.format(\n",
        "      average_precision))"
      ],
      "execution_count": 23,
      "outputs": [
        {
          "output_type": "stream",
          "text": [
            "Average precision-recall score: 0.41\n"
          ],
          "name": "stdout"
        }
      ]
    },
    {
      "cell_type": "markdown",
      "metadata": {
        "id": "ZCLpqPfpwMgD",
        "colab_type": "text"
      },
      "source": [
        "Predict if the customer with the following informations will leave the bank: \n",
        "* Geography: France\n",
        "* Credit Score: 600\n",
        "* Gender: Male\n",
        "* Age: 40 years old\n",
        "* Tenure: 3 years\n",
        "* Balance: 60,000\n",
        "* Number of Products: 2\n",
        "* Does this customer have a credit card ? Yes\n",
        "* Is this customer an Active Member: Yes\n",
        "* Estimated Salary: $50000"
      ]
    },
    {
      "cell_type": "code",
      "metadata": {
        "id": "rnEAI0B4wWQW",
        "colab_type": "code",
        "colab": {}
      },
      "source": [
        "new_prediction = classifier.predict(\n",
        "    sc.transform(\n",
        "        np.array(\n",
        "            [[\n",
        "              0.0    # Geography: Germany\n",
        "              ,0     # Geography: Spain\n",
        "              ,600   # Credit Score\n",
        "              ,1     # Gender: Male\n",
        "              ,40    # Age \n",
        "              ,3     # Tenure\n",
        "              ,60000 # Balance\n",
        "              ,2     # number of products\n",
        "              ,1     # has credit card\n",
        "              ,1     # active member\n",
        "              ,50000 # estimated salary\n",
        "            ]]\n",
        "          )\n",
        "        )\n",
        "    )"
      ],
      "execution_count": 0,
      "outputs": []
    },
    {
      "cell_type": "code",
      "metadata": {
        "id": "B8IAojxfzFic",
        "colab_type": "code",
        "colab": {
          "base_uri": "https://localhost:8080/",
          "height": 217
        },
        "outputId": "fe492b80-d4be-4f1b-8d19-493ac5f5f681"
      },
      "source": [
        "dataset.iloc[1, 3:13]"
      ],
      "execution_count": 42,
      "outputs": [
        {
          "output_type": "execute_result",
          "data": {
            "text/plain": [
              "CreditScore            608\n",
              "Geography            Spain\n",
              "Gender              Female\n",
              "Age                     41\n",
              "Tenure                   1\n",
              "Balance            83807.9\n",
              "NumOfProducts            1\n",
              "HasCrCard                0\n",
              "IsActiveMember           1\n",
              "EstimatedSalary     112543\n",
              "Name: 1, dtype: object"
            ]
          },
          "metadata": {
            "tags": []
          },
          "execution_count": 42
        }
      ]
    },
    {
      "cell_type": "code",
      "metadata": {
        "id": "K5Nfs5S03hT_",
        "colab_type": "code",
        "colab": {
          "base_uri": "https://localhost:8080/",
          "height": 35
        },
        "outputId": "be0b5884-1cdf-4f1a-e658-b4f671a99b18"
      },
      "source": [
        "new_prediction"
      ],
      "execution_count": 47,
      "outputs": [
        {
          "output_type": "execute_result",
          "data": {
            "text/plain": [
              "array([[0.13707006]], dtype=float32)"
            ]
          },
          "metadata": {
            "tags": []
          },
          "execution_count": 47
        }
      ]
    },
    {
      "cell_type": "code",
      "metadata": {
        "id": "kaxGB2To26Iu",
        "colab_type": "code",
        "colab": {
          "base_uri": "https://localhost:8080/",
          "height": 35
        },
        "outputId": "e0d42c9c-b8b3-414c-d197-1269d8b49e06"
      },
      "source": [
        "# Trye (leaves the bank)\n",
        "# False (doesn't leave the bank, the person stays)\n",
        "new_prediction = (new_prediction > 0.5) \n",
        "new_prediction"
      ],
      "execution_count": 43,
      "outputs": [
        {
          "output_type": "execute_result",
          "data": {
            "text/plain": [
              "array([[False]])"
            ]
          },
          "metadata": {
            "tags": []
          },
          "execution_count": 43
        }
      ]
    }
  ]
}