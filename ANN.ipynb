{
  "nbformat": 4,
  "nbformat_minor": 0,
  "metadata": {
    "colab": {
      "name": "ANN.ipynb",
      "provenance": [],
      "collapsed_sections": [],
      "include_colab_link": true
    },
    "kernelspec": {
      "name": "python3",
      "display_name": "Python 3"
    }
  },
  "cells": [
    {
      "cell_type": "markdown",
      "metadata": {
        "id": "view-in-github",
        "colab_type": "text"
      },
      "source": [
        "<a href=\"https://colab.research.google.com/github/leoquiroa/DeepLearning/blob/master/ANN.ipynb\" target=\"_parent\"><img src=\"https://colab.research.google.com/assets/colab-badge.svg\" alt=\"Open In Colab\"/></a>"
      ]
    },
    {
      "cell_type": "code",
      "metadata": {
        "id": "occw2A_-UTWF",
        "colab_type": "code",
        "colab": {}
      },
      "source": [
        "import keras\n",
        "from keras.models import Sequential\n",
        "from keras.layers import Dense\n",
        "\n",
        "import pandas as pd\n",
        "\n",
        "from sklearn.preprocessing import LabelEncoder, OneHotEncoder, StandardScaler\n",
        "from sklearn.compose import make_column_transformer\n",
        "from sklearn.model_selection import train_test_split\n",
        "from sklearn.metrics import confusion_matrix, accuracy_score, precision_score, recall_score, f1_score, average_precision_score, plot_precision_recall_curve\n"
      ],
      "execution_count": 0,
      "outputs": []
    },
    {
      "cell_type": "markdown",
      "metadata": {
        "id": "VqwKq1x_a8yy",
        "colab_type": "text"
      },
      "source": [
        "Data preprocessing"
      ]
    },
    {
      "cell_type": "code",
      "metadata": {
        "id": "4JrP7Xmvb47R",
        "colab_type": "code",
        "colab": {
          "base_uri": "https://localhost:8080/",
          "height": 244
        },
        "outputId": "b20b9251-20b1-4f90-9689-b024b1a0318b"
      },
      "source": [
        "url = \"https://raw.githubusercontent.com/leoquiroa/DeepLearning/master/Data/Churn_Modelling.csv\"\n",
        "dataset = pd.read_csv(\n",
        "    url, \n",
        "    names = [\"RowNumber\",\"CustomerId\",\"Surname\",\"CreditScore\",\"Geography\",\"Gender\",\"Age\",\"Tenure\",\"Balance\",\"NumOfProducts\",\"HasCrCard\",\"IsActiveMember\",\"EstimatedSalary\",\"Exited\"], \n",
        "    skiprows=1)\n",
        "print(dataset.shape)\n",
        "dataset.head()"
      ],
      "execution_count": 2,
      "outputs": [
        {
          "output_type": "stream",
          "text": [
            "(10000, 14)\n"
          ],
          "name": "stdout"
        },
        {
          "output_type": "execute_result",
          "data": {
            "text/html": [
              "<div>\n",
              "<style scoped>\n",
              "    .dataframe tbody tr th:only-of-type {\n",
              "        vertical-align: middle;\n",
              "    }\n",
              "\n",
              "    .dataframe tbody tr th {\n",
              "        vertical-align: top;\n",
              "    }\n",
              "\n",
              "    .dataframe thead th {\n",
              "        text-align: right;\n",
              "    }\n",
              "</style>\n",
              "<table border=\"1\" class=\"dataframe\">\n",
              "  <thead>\n",
              "    <tr style=\"text-align: right;\">\n",
              "      <th></th>\n",
              "      <th>RowNumber</th>\n",
              "      <th>CustomerId</th>\n",
              "      <th>Surname</th>\n",
              "      <th>CreditScore</th>\n",
              "      <th>Geography</th>\n",
              "      <th>Gender</th>\n",
              "      <th>Age</th>\n",
              "      <th>Tenure</th>\n",
              "      <th>Balance</th>\n",
              "      <th>NumOfProducts</th>\n",
              "      <th>HasCrCard</th>\n",
              "      <th>IsActiveMember</th>\n",
              "      <th>EstimatedSalary</th>\n",
              "      <th>Exited</th>\n",
              "    </tr>\n",
              "  </thead>\n",
              "  <tbody>\n",
              "    <tr>\n",
              "      <th>0</th>\n",
              "      <td>1</td>\n",
              "      <td>15634602</td>\n",
              "      <td>Hargrave</td>\n",
              "      <td>619</td>\n",
              "      <td>France</td>\n",
              "      <td>Female</td>\n",
              "      <td>42</td>\n",
              "      <td>2</td>\n",
              "      <td>0.00</td>\n",
              "      <td>1</td>\n",
              "      <td>1</td>\n",
              "      <td>1</td>\n",
              "      <td>101348.88</td>\n",
              "      <td>1</td>\n",
              "    </tr>\n",
              "    <tr>\n",
              "      <th>1</th>\n",
              "      <td>2</td>\n",
              "      <td>15647311</td>\n",
              "      <td>Hill</td>\n",
              "      <td>608</td>\n",
              "      <td>Spain</td>\n",
              "      <td>Female</td>\n",
              "      <td>41</td>\n",
              "      <td>1</td>\n",
              "      <td>83807.86</td>\n",
              "      <td>1</td>\n",
              "      <td>0</td>\n",
              "      <td>1</td>\n",
              "      <td>112542.58</td>\n",
              "      <td>0</td>\n",
              "    </tr>\n",
              "    <tr>\n",
              "      <th>2</th>\n",
              "      <td>3</td>\n",
              "      <td>15619304</td>\n",
              "      <td>Onio</td>\n",
              "      <td>502</td>\n",
              "      <td>France</td>\n",
              "      <td>Female</td>\n",
              "      <td>42</td>\n",
              "      <td>8</td>\n",
              "      <td>159660.80</td>\n",
              "      <td>3</td>\n",
              "      <td>1</td>\n",
              "      <td>0</td>\n",
              "      <td>113931.57</td>\n",
              "      <td>1</td>\n",
              "    </tr>\n",
              "    <tr>\n",
              "      <th>3</th>\n",
              "      <td>4</td>\n",
              "      <td>15701354</td>\n",
              "      <td>Boni</td>\n",
              "      <td>699</td>\n",
              "      <td>France</td>\n",
              "      <td>Female</td>\n",
              "      <td>39</td>\n",
              "      <td>1</td>\n",
              "      <td>0.00</td>\n",
              "      <td>2</td>\n",
              "      <td>0</td>\n",
              "      <td>0</td>\n",
              "      <td>93826.63</td>\n",
              "      <td>0</td>\n",
              "    </tr>\n",
              "    <tr>\n",
              "      <th>4</th>\n",
              "      <td>5</td>\n",
              "      <td>15737888</td>\n",
              "      <td>Mitchell</td>\n",
              "      <td>850</td>\n",
              "      <td>Spain</td>\n",
              "      <td>Female</td>\n",
              "      <td>43</td>\n",
              "      <td>2</td>\n",
              "      <td>125510.82</td>\n",
              "      <td>1</td>\n",
              "      <td>1</td>\n",
              "      <td>1</td>\n",
              "      <td>79084.10</td>\n",
              "      <td>0</td>\n",
              "    </tr>\n",
              "  </tbody>\n",
              "</table>\n",
              "</div>"
            ],
            "text/plain": [
              "   RowNumber  CustomerId   Surname  ...  IsActiveMember EstimatedSalary Exited\n",
              "0          1    15634602  Hargrave  ...               1       101348.88      1\n",
              "1          2    15647311      Hill  ...               1       112542.58      0\n",
              "2          3    15619304      Onio  ...               0       113931.57      1\n",
              "3          4    15701354      Boni  ...               0        93826.63      0\n",
              "4          5    15737888  Mitchell  ...               1        79084.10      0\n",
              "\n",
              "[5 rows x 14 columns]"
            ]
          },
          "metadata": {
            "tags": []
          },
          "execution_count": 2
        }
      ]
    },
    {
      "cell_type": "code",
      "metadata": {
        "id": "YgNCOiq0clLS",
        "colab_type": "code",
        "colab": {
          "base_uri": "https://localhost:8080/",
          "height": 54
        },
        "outputId": "23f91db9-0bd6-448c-ea40-cb48be368567"
      },
      "source": [
        "X = dataset.iloc[:, 3:13].values # CreditScore, Geography, Gender, Age, Tenure, Balance, NumOfProducts,\tHasCrCard, IsActiveMember, EstimatedSalary\n",
        "y = dataset.iloc[:, 13].values #Exited\n",
        "print(X.shape)\n",
        "print(y.shape)"
      ],
      "execution_count": 3,
      "outputs": [
        {
          "output_type": "stream",
          "text": [
            "(10000, 10)\n",
            "(10000,)\n"
          ],
          "name": "stdout"
        }
      ]
    },
    {
      "cell_type": "code",
      "metadata": {
        "id": "thfeV-IIitph",
        "colab_type": "code",
        "colab": {
          "base_uri": "https://localhost:8080/",
          "height": 222
        },
        "outputId": "81b1ed89-1ee6-4c74-ffc9-ef5cdf5ae800"
      },
      "source": [
        "X[1:10,:]"
      ],
      "execution_count": 4,
      "outputs": [
        {
          "output_type": "execute_result",
          "data": {
            "text/plain": [
              "array([[608, 'Spain', 'Female', 41, 1, 83807.86, 1, 0, 1, 112542.58],\n",
              "       [502, 'France', 'Female', 42, 8, 159660.8, 3, 1, 0, 113931.57],\n",
              "       [699, 'France', 'Female', 39, 1, 0.0, 2, 0, 0, 93826.63],\n",
              "       [850, 'Spain', 'Female', 43, 2, 125510.82, 1, 1, 1, 79084.1],\n",
              "       [645, 'Spain', 'Male', 44, 8, 113755.78, 2, 1, 0, 149756.71],\n",
              "       [822, 'France', 'Male', 50, 7, 0.0, 2, 1, 1, 10062.8],\n",
              "       [376, 'Germany', 'Female', 29, 4, 115046.74, 4, 1, 0, 119346.88],\n",
              "       [501, 'France', 'Male', 44, 4, 142051.07, 2, 0, 1, 74940.5],\n",
              "       [684, 'France', 'Male', 27, 2, 134603.88, 1, 1, 1, 71725.73]],\n",
              "      dtype=object)"
            ]
          },
          "metadata": {
            "tags": []
          },
          "execution_count": 4
        }
      ]
    },
    {
      "cell_type": "markdown",
      "metadata": {
        "id": "nt4K8a6cnUt6",
        "colab_type": "text"
      },
      "source": [
        "Two categorical variables: Geography and Gender. Apply Label-Encoder."
      ]
    },
    {
      "cell_type": "code",
      "metadata": {
        "id": "M8MBpTnzhrwq",
        "colab_type": "code",
        "colab": {
          "base_uri": "https://localhost:8080/",
          "height": 91
        },
        "outputId": "ca6b74cb-aae5-41ac-bfb5-e5b68ce137fe"
      },
      "source": [
        "dataset['Geography'].value_counts()"
      ],
      "execution_count": 5,
      "outputs": [
        {
          "output_type": "execute_result",
          "data": {
            "text/plain": [
              "France     5014\n",
              "Germany    2509\n",
              "Spain      2477\n",
              "Name: Geography, dtype: int64"
            ]
          },
          "metadata": {
            "tags": []
          },
          "execution_count": 5
        }
      ]
    },
    {
      "cell_type": "code",
      "metadata": {
        "id": "vzuWRO9Rih7V",
        "colab_type": "code",
        "colab": {
          "base_uri": "https://localhost:8080/",
          "height": 72
        },
        "outputId": "b01f080b-911a-4d4e-a799-238b80feed29"
      },
      "source": [
        "dataset['Gender'].value_counts()"
      ],
      "execution_count": 6,
      "outputs": [
        {
          "output_type": "execute_result",
          "data": {
            "text/plain": [
              "Male      5457\n",
              "Female    4543\n",
              "Name: Gender, dtype: int64"
            ]
          },
          "metadata": {
            "tags": []
          },
          "execution_count": 6
        }
      ]
    },
    {
      "cell_type": "code",
      "metadata": {
        "id": "OMneFJeNhine",
        "colab_type": "code",
        "colab": {}
      },
      "source": [
        "# Encoding categorical data (Geography and Gender)\n",
        "labelencoder_1 = LabelEncoder()\n",
        "X[:, 1] = labelencoder_1.fit_transform(X[:, 1])\n",
        "labelencoder_2 = LabelEncoder()\n",
        "X[:, 2] = labelencoder_2.fit_transform(X[:, 2])"
      ],
      "execution_count": 0,
      "outputs": []
    },
    {
      "cell_type": "code",
      "metadata": {
        "id": "nAlAb3Tlk7qB",
        "colab_type": "code",
        "colab": {
          "base_uri": "https://localhost:8080/",
          "height": 203
        },
        "outputId": "2e57aecc-018a-4a6a-c0ec-ad477be96be2"
      },
      "source": [
        "X[1:10,:]"
      ],
      "execution_count": 8,
      "outputs": [
        {
          "output_type": "execute_result",
          "data": {
            "text/plain": [
              "array([[608, 2, 0, 41, 1, 83807.86, 1, 0, 1, 112542.58],\n",
              "       [502, 0, 0, 42, 8, 159660.8, 3, 1, 0, 113931.57],\n",
              "       [699, 0, 0, 39, 1, 0.0, 2, 0, 0, 93826.63],\n",
              "       [850, 2, 0, 43, 2, 125510.82, 1, 1, 1, 79084.1],\n",
              "       [645, 2, 1, 44, 8, 113755.78, 2, 1, 0, 149756.71],\n",
              "       [822, 0, 1, 50, 7, 0.0, 2, 1, 1, 10062.8],\n",
              "       [376, 1, 0, 29, 4, 115046.74, 4, 1, 0, 119346.88],\n",
              "       [501, 0, 1, 44, 4, 142051.07, 2, 0, 1, 74940.5],\n",
              "       [684, 0, 1, 27, 2, 134603.88, 1, 1, 1, 71725.73]], dtype=object)"
            ]
          },
          "metadata": {
            "tags": []
          },
          "execution_count": 8
        }
      ]
    },
    {
      "cell_type": "markdown",
      "metadata": {
        "id": "vyJwOgPFneTx",
        "colab_type": "text"
      },
      "source": [
        "Create dummy variables for the Geography (since it has > 2 categories) with One-Hot-Encoder"
      ]
    },
    {
      "cell_type": "code",
      "metadata": {
        "id": "DvNM5ZRdlE-1",
        "colab_type": "code",
        "colab": {}
      },
      "source": [
        "A = make_column_transformer(\n",
        "    (OneHotEncoder(categories='auto'), [1]), \n",
        "    remainder=\"passthrough\")\n",
        "X=A.fit_transform(X)"
      ],
      "execution_count": 0,
      "outputs": []
    },
    {
      "cell_type": "code",
      "metadata": {
        "id": "q-VKcav5mTn5",
        "colab_type": "code",
        "colab": {
          "base_uri": "https://localhost:8080/",
          "height": 222
        },
        "outputId": "cd358bd6-8462-416e-e283-9d0f8e0945fe"
      },
      "source": [
        "X[1:10,:]"
      ],
      "execution_count": 10,
      "outputs": [
        {
          "output_type": "execute_result",
          "data": {
            "text/plain": [
              "array([[0.0, 0.0, 1.0, 608, 0, 41, 1, 83807.86, 1, 0, 1, 112542.58],\n",
              "       [1.0, 0.0, 0.0, 502, 0, 42, 8, 159660.8, 3, 1, 0, 113931.57],\n",
              "       [1.0, 0.0, 0.0, 699, 0, 39, 1, 0.0, 2, 0, 0, 93826.63],\n",
              "       [0.0, 0.0, 1.0, 850, 0, 43, 2, 125510.82, 1, 1, 1, 79084.1],\n",
              "       [0.0, 0.0, 1.0, 645, 1, 44, 8, 113755.78, 2, 1, 0, 149756.71],\n",
              "       [1.0, 0.0, 0.0, 822, 1, 50, 7, 0.0, 2, 1, 1, 10062.8],\n",
              "       [0.0, 1.0, 0.0, 376, 0, 29, 4, 115046.74, 4, 1, 0, 119346.88],\n",
              "       [1.0, 0.0, 0.0, 501, 1, 44, 4, 142051.07, 2, 0, 1, 74940.5],\n",
              "       [1.0, 0.0, 0.0, 684, 1, 27, 2, 134603.88, 1, 1, 1, 71725.73]],\n",
              "      dtype=object)"
            ]
          },
          "metadata": {
            "tags": []
          },
          "execution_count": 10
        }
      ]
    },
    {
      "cell_type": "markdown",
      "metadata": {
        "id": "lIldwNFin8KC",
        "colab_type": "text"
      },
      "source": [
        "Avoid the Dummy variable trap by removing the first column. Now, it has only two columns for the country."
      ]
    },
    {
      "cell_type": "code",
      "metadata": {
        "id": "MoCI2b2AoVJ8",
        "colab_type": "code",
        "colab": {}
      },
      "source": [
        "X = X[:, 1:]"
      ],
      "execution_count": 0,
      "outputs": []
    },
    {
      "cell_type": "code",
      "metadata": {
        "id": "41huMUiwoZr9",
        "colab_type": "code",
        "colab": {
          "base_uri": "https://localhost:8080/",
          "height": 202
        },
        "outputId": "b114b2f6-2a10-48f6-a5a3-865970372a91"
      },
      "source": [
        "X[1:10,:]"
      ],
      "execution_count": 12,
      "outputs": [
        {
          "output_type": "execute_result",
          "data": {
            "text/plain": [
              "array([[0.0, 1.0, 608, 0, 41, 1, 83807.86, 1, 0, 1, 112542.58],\n",
              "       [0.0, 0.0, 502, 0, 42, 8, 159660.8, 3, 1, 0, 113931.57],\n",
              "       [0.0, 0.0, 699, 0, 39, 1, 0.0, 2, 0, 0, 93826.63],\n",
              "       [0.0, 1.0, 850, 0, 43, 2, 125510.82, 1, 1, 1, 79084.1],\n",
              "       [0.0, 1.0, 645, 1, 44, 8, 113755.78, 2, 1, 0, 149756.71],\n",
              "       [0.0, 0.0, 822, 1, 50, 7, 0.0, 2, 1, 1, 10062.8],\n",
              "       [1.0, 0.0, 376, 0, 29, 4, 115046.74, 4, 1, 0, 119346.88],\n",
              "       [0.0, 0.0, 501, 1, 44, 4, 142051.07, 2, 0, 1, 74940.5],\n",
              "       [0.0, 0.0, 684, 1, 27, 2, 134603.88, 1, 1, 1, 71725.73]],\n",
              "      dtype=object)"
            ]
          },
          "metadata": {
            "tags": []
          },
          "execution_count": 12
        }
      ]
    },
    {
      "cell_type": "markdown",
      "metadata": {
        "id": "eGrKOYUBonaS",
        "colab_type": "text"
      },
      "source": [
        "Splitting the dataset into the Training set and Test set"
      ]
    },
    {
      "cell_type": "code",
      "metadata": {
        "id": "ZErnRPt5orG8",
        "colab_type": "code",
        "colab": {
          "base_uri": "https://localhost:8080/",
          "height": 54
        },
        "outputId": "fd4430e7-1e65-4e8b-8735-49e9b74b398d"
      },
      "source": [
        "X_train, X_test, y_train, y_test = train_test_split(X, y, test_size = 0.2, random_state = 0)\n",
        "print(X_train.shape)\n",
        "print(X_test.shape)"
      ],
      "execution_count": 13,
      "outputs": [
        {
          "output_type": "stream",
          "text": [
            "(8000, 11)\n",
            "(2000, 11)\n"
          ],
          "name": "stdout"
        }
      ]
    },
    {
      "cell_type": "markdown",
      "metadata": {
        "id": "UIDBUfaFo9rJ",
        "colab_type": "text"
      },
      "source": [
        "Feature Scaling. We don't one independent variable dominating another one."
      ]
    },
    {
      "cell_type": "code",
      "metadata": {
        "id": "t5u2EIXtpPJK",
        "colab_type": "code",
        "colab": {}
      },
      "source": [
        "sc = StandardScaler()\n",
        "X_train = sc.fit_transform(X_train)\n",
        "X_test = sc.transform(X_test)"
      ],
      "execution_count": 0,
      "outputs": []
    },
    {
      "cell_type": "code",
      "metadata": {
        "id": "VP1i8L3Nqbhy",
        "colab_type": "code",
        "colab": {
          "base_uri": "https://localhost:8080/",
          "height": 72
        },
        "outputId": "9a1e1833-bc1f-4d0a-9ec7-eccfd92e815d"
      },
      "source": [
        "print(X.shape)\n",
        "print(X_train.shape)\n",
        "print(X_test.shape)"
      ],
      "execution_count": 15,
      "outputs": [
        {
          "output_type": "stream",
          "text": [
            "(10000, 11)\n",
            "(8000, 11)\n",
            "(2000, 11)\n"
          ],
          "name": "stdout"
        }
      ]
    },
    {
      "cell_type": "code",
      "metadata": {
        "id": "nJ7gHn7tp1ch",
        "colab_type": "code",
        "colab": {
          "base_uri": "https://localhost:8080/",
          "height": 128
        },
        "outputId": "d6ae08a8-150e-4076-86ef-b034c4c3f455"
      },
      "source": [
        "print(min(X[:,2]))\n",
        "print(max(X[:,2]))\n",
        "print(min(X_train[:,2]))\n",
        "print(max(X_train[:,2]))\n",
        "print(min(X_test[:,2]))\n",
        "print(max(X_test[:,2]))"
      ],
      "execution_count": 16,
      "outputs": [
        {
          "output_type": "stream",
          "text": [
            "350\n",
            "850\n",
            "-3.0983464242408694\n",
            "2.0561144379132976\n",
            "-2.943712598376244\n",
            "2.0561144379132976\n"
          ],
          "name": "stdout"
        }
      ]
    },
    {
      "cell_type": "markdown",
      "metadata": {
        "id": "OculGzGDrU8c",
        "colab_type": "text"
      },
      "source": [
        "Initialize the DL model\n",
        "1. Defining the sequence of layers (*)\n",
        "2. Defining a graph\n",
        "\n",
        "Activation Functions\n",
        "* Relu for hidden layers\n",
        "* Sigmoid as output (probabilities)\n",
        "* Softmax for more than two categories\n",
        "\n",
        "**Back-Propagation:**\n",
        "Update the weights according to how much they are responsible for the error\n",
        "\n",
        "**The Learning Rate:**\n",
        "Decides how much we update the weights\n",
        "\n",
        "Update the weights after observations\n",
        "* one (Reinforcement Learning)\n",
        "* batch (Batch Learning)\n",
        "\n",
        "**Number of nodes**\n",
        "* Art: average of input+output\n",
        "* Not Art: Grid search for parameter tunning \n",
        "\n",
        "**Optimizer**, the algorithm to find the optimal set of weights in the NN. Stochastic Gradient Descent. (i.e. Adam)\n",
        "\n",
        "**Loss**\n",
        "* categorical_crossentropy > 2 categories has outcome\n",
        "* binary_crossentropy = binary outcome\n",
        "\n",
        "**Batch size**\n",
        "The number of observations after which you want to update the weight"
      ]
    },
    {
      "cell_type": "code",
      "metadata": {
        "id": "FssgiGZy9Upw",
        "colab_type": "code",
        "colab": {}
      },
      "source": [
        "classifier = Sequential()\n",
        "# input layer and first hidden layer\n",
        "classifier.add(\n",
        "    Dense(\n",
        "        kernel_initializer='uniform'\n",
        "        ,input_dim=11\n",
        "        ,activation='relu'\n",
        "        ,units=6\n",
        "        )\n",
        "    )\n",
        "# second hidden layer\n",
        "classifier.add(\n",
        "    Dense(\n",
        "        kernel_initializer='uniform'\n",
        "        ,units=6\n",
        "        ,activation='relu'\n",
        "        )\n",
        "    )\n",
        "# output layer\n",
        "classifier.add(\n",
        "    Dense(\n",
        "        kernel_initializer='uniform'\n",
        "        ,units=1\n",
        "        ,activation='sigmoid'\n",
        "        )\n",
        "    )\n",
        "#compile\n",
        "classifier.compile(\n",
        "    optimizer='adam'\n",
        "    ,loss='binary_crossentropy'\n",
        "    ,metrics = ['accuracy']\n",
        "    )"
      ],
      "execution_count": 0,
      "outputs": []
    },
    {
      "cell_type": "code",
      "metadata": {
        "id": "-zOWLAQ6sqFn",
        "colab_type": "code",
        "colab": {
          "base_uri": "https://localhost:8080/",
          "height": 1000
        },
        "outputId": "fd39c8da-2b1f-4a6b-cd4c-a25c7d67d151"
      },
      "source": [
        "classifier.fit(x=X_train,y=y_train,batch_size=10,epochs=100)"
      ],
      "execution_count": 35,
      "outputs": [
        {
          "output_type": "stream",
          "text": [
            "WARNING:tensorflow:From /usr/local/lib/python3.6/dist-packages/keras/backend/tensorflow_backend.py:1033: The name tf.assign_add is deprecated. Please use tf.compat.v1.assign_add instead.\n",
            "\n",
            "WARNING:tensorflow:From /usr/local/lib/python3.6/dist-packages/keras/backend/tensorflow_backend.py:1020: The name tf.assign is deprecated. Please use tf.compat.v1.assign instead.\n",
            "\n",
            "WARNING:tensorflow:From /usr/local/lib/python3.6/dist-packages/keras/backend/tensorflow_backend.py:3005: The name tf.Session is deprecated. Please use tf.compat.v1.Session instead.\n",
            "\n",
            "Epoch 1/100\n",
            "WARNING:tensorflow:From /usr/local/lib/python3.6/dist-packages/keras/backend/tensorflow_backend.py:190: The name tf.get_default_session is deprecated. Please use tf.compat.v1.get_default_session instead.\n",
            "\n",
            "WARNING:tensorflow:From /usr/local/lib/python3.6/dist-packages/keras/backend/tensorflow_backend.py:197: The name tf.ConfigProto is deprecated. Please use tf.compat.v1.ConfigProto instead.\n",
            "\n",
            "WARNING:tensorflow:From /usr/local/lib/python3.6/dist-packages/keras/backend/tensorflow_backend.py:207: The name tf.global_variables is deprecated. Please use tf.compat.v1.global_variables instead.\n",
            "\n",
            "WARNING:tensorflow:From /usr/local/lib/python3.6/dist-packages/keras/backend/tensorflow_backend.py:216: The name tf.is_variable_initialized is deprecated. Please use tf.compat.v1.is_variable_initialized instead.\n",
            "\n",
            "WARNING:tensorflow:From /usr/local/lib/python3.6/dist-packages/keras/backend/tensorflow_backend.py:223: The name tf.variables_initializer is deprecated. Please use tf.compat.v1.variables_initializer instead.\n",
            "\n",
            "8000/8000 [==============================] - 2s 234us/step - loss: 0.5062 - acc: 0.8004\n",
            "Epoch 2/100\n",
            "8000/8000 [==============================] - 1s 129us/step - loss: 0.4063 - acc: 0.8262\n",
            "Epoch 3/100\n",
            "8000/8000 [==============================] - 1s 126us/step - loss: 0.3908 - acc: 0.8289\n",
            "Epoch 4/100\n",
            "8000/8000 [==============================] - 1s 130us/step - loss: 0.3812 - acc: 0.8339\n",
            "Epoch 5/100\n",
            "8000/8000 [==============================] - 1s 125us/step - loss: 0.3751 - acc: 0.8441\n",
            "Epoch 6/100\n",
            "8000/8000 [==============================] - 1s 126us/step - loss: 0.3695 - acc: 0.8460\n",
            "Epoch 7/100\n",
            "8000/8000 [==============================] - 1s 128us/step - loss: 0.3668 - acc: 0.8479\n",
            "Epoch 8/100\n",
            "8000/8000 [==============================] - 1s 126us/step - loss: 0.3639 - acc: 0.8507\n",
            "Epoch 9/100\n",
            "8000/8000 [==============================] - 1s 128us/step - loss: 0.3613 - acc: 0.8531\n",
            "Epoch 10/100\n",
            "8000/8000 [==============================] - 1s 127us/step - loss: 0.3588 - acc: 0.8515\n",
            "Epoch 11/100\n",
            "8000/8000 [==============================] - 1s 128us/step - loss: 0.3566 - acc: 0.8537\n",
            "Epoch 12/100\n",
            "8000/8000 [==============================] - 1s 129us/step - loss: 0.3550 - acc: 0.8545\n",
            "Epoch 13/100\n",
            "8000/8000 [==============================] - 1s 128us/step - loss: 0.3542 - acc: 0.8532\n",
            "Epoch 14/100\n",
            "8000/8000 [==============================] - 1s 132us/step - loss: 0.3531 - acc: 0.8580\n",
            "Epoch 15/100\n",
            "8000/8000 [==============================] - 1s 131us/step - loss: 0.3507 - acc: 0.8587\n",
            "Epoch 16/100\n",
            "8000/8000 [==============================] - 1s 129us/step - loss: 0.3497 - acc: 0.8576\n",
            "Epoch 17/100\n",
            "8000/8000 [==============================] - 1s 126us/step - loss: 0.3492 - acc: 0.8560\n",
            "Epoch 18/100\n",
            "8000/8000 [==============================] - 1s 127us/step - loss: 0.3480 - acc: 0.8577\n",
            "Epoch 19/100\n",
            "8000/8000 [==============================] - 1s 127us/step - loss: 0.3480 - acc: 0.8586\n",
            "Epoch 20/100\n",
            "8000/8000 [==============================] - 1s 129us/step - loss: 0.3473 - acc: 0.8584\n",
            "Epoch 21/100\n",
            "8000/8000 [==============================] - 1s 128us/step - loss: 0.3465 - acc: 0.8597\n",
            "Epoch 22/100\n",
            "8000/8000 [==============================] - 1s 130us/step - loss: 0.3460 - acc: 0.8577\n",
            "Epoch 23/100\n",
            "8000/8000 [==============================] - 1s 129us/step - loss: 0.3456 - acc: 0.8586\n",
            "Epoch 24/100\n",
            "8000/8000 [==============================] - 1s 127us/step - loss: 0.3448 - acc: 0.8574\n",
            "Epoch 25/100\n",
            "8000/8000 [==============================] - 1s 129us/step - loss: 0.3447 - acc: 0.8581\n",
            "Epoch 26/100\n",
            "8000/8000 [==============================] - 1s 128us/step - loss: 0.3441 - acc: 0.8570\n",
            "Epoch 27/100\n",
            "8000/8000 [==============================] - 1s 130us/step - loss: 0.3435 - acc: 0.8575\n",
            "Epoch 28/100\n",
            "8000/8000 [==============================] - 1s 126us/step - loss: 0.3442 - acc: 0.8581\n",
            "Epoch 29/100\n",
            "8000/8000 [==============================] - 1s 133us/step - loss: 0.3432 - acc: 0.8584\n",
            "Epoch 30/100\n",
            "8000/8000 [==============================] - 1s 127us/step - loss: 0.3431 - acc: 0.8597\n",
            "Epoch 31/100\n",
            "8000/8000 [==============================] - 1s 130us/step - loss: 0.3418 - acc: 0.8601\n",
            "Epoch 32/100\n",
            "8000/8000 [==============================] - 1s 124us/step - loss: 0.3419 - acc: 0.8586\n",
            "Epoch 33/100\n",
            "8000/8000 [==============================] - 1s 126us/step - loss: 0.3409 - acc: 0.8604\n",
            "Epoch 34/100\n",
            "8000/8000 [==============================] - 1s 135us/step - loss: 0.3419 - acc: 0.8602\n",
            "Epoch 35/100\n",
            "8000/8000 [==============================] - 1s 128us/step - loss: 0.3409 - acc: 0.8600\n",
            "Epoch 36/100\n",
            "8000/8000 [==============================] - 1s 134us/step - loss: 0.3406 - acc: 0.8599\n",
            "Epoch 37/100\n",
            "8000/8000 [==============================] - 1s 131us/step - loss: 0.3407 - acc: 0.8591\n",
            "Epoch 38/100\n",
            "8000/8000 [==============================] - 1s 135us/step - loss: 0.3406 - acc: 0.8595\n",
            "Epoch 39/100\n",
            "8000/8000 [==============================] - 1s 131us/step - loss: 0.3408 - acc: 0.8596\n",
            "Epoch 40/100\n",
            "8000/8000 [==============================] - 1s 133us/step - loss: 0.3399 - acc: 0.8592\n",
            "Epoch 41/100\n",
            "8000/8000 [==============================] - 1s 136us/step - loss: 0.3395 - acc: 0.8591\n",
            "Epoch 42/100\n",
            "8000/8000 [==============================] - 1s 134us/step - loss: 0.3392 - acc: 0.8579\n",
            "Epoch 43/100\n",
            "8000/8000 [==============================] - 1s 134us/step - loss: 0.3384 - acc: 0.8615\n",
            "Epoch 44/100\n",
            "8000/8000 [==============================] - 1s 135us/step - loss: 0.3394 - acc: 0.8586\n",
            "Epoch 45/100\n",
            "8000/8000 [==============================] - 1s 128us/step - loss: 0.3387 - acc: 0.8607\n",
            "Epoch 46/100\n",
            "8000/8000 [==============================] - 1s 130us/step - loss: 0.3383 - acc: 0.8614\n",
            "Epoch 47/100\n",
            "8000/8000 [==============================] - 1s 130us/step - loss: 0.3384 - acc: 0.8617\n",
            "Epoch 48/100\n",
            "8000/8000 [==============================] - 1s 130us/step - loss: 0.3375 - acc: 0.8609\n",
            "Epoch 49/100\n",
            "8000/8000 [==============================] - 1s 132us/step - loss: 0.3377 - acc: 0.8602\n",
            "Epoch 50/100\n",
            "8000/8000 [==============================] - 1s 131us/step - loss: 0.3369 - acc: 0.8612\n",
            "Epoch 51/100\n",
            "8000/8000 [==============================] - 1s 129us/step - loss: 0.3380 - acc: 0.8606\n",
            "Epoch 52/100\n",
            "8000/8000 [==============================] - 1s 129us/step - loss: 0.3383 - acc: 0.8616\n",
            "Epoch 53/100\n",
            "8000/8000 [==============================] - 1s 132us/step - loss: 0.3378 - acc: 0.8596\n",
            "Epoch 54/100\n",
            "8000/8000 [==============================] - 1s 129us/step - loss: 0.3381 - acc: 0.8607\n",
            "Epoch 55/100\n",
            "8000/8000 [==============================] - 1s 130us/step - loss: 0.3373 - acc: 0.8599\n",
            "Epoch 56/100\n",
            "8000/8000 [==============================] - 1s 131us/step - loss: 0.3373 - acc: 0.8601\n",
            "Epoch 57/100\n",
            "8000/8000 [==============================] - 1s 129us/step - loss: 0.3376 - acc: 0.8634\n",
            "Epoch 58/100\n",
            "8000/8000 [==============================] - 1s 129us/step - loss: 0.3367 - acc: 0.8625\n",
            "Epoch 59/100\n",
            "8000/8000 [==============================] - 1s 133us/step - loss: 0.3366 - acc: 0.8610\n",
            "Epoch 60/100\n",
            "8000/8000 [==============================] - 1s 131us/step - loss: 0.3364 - acc: 0.8606\n",
            "Epoch 61/100\n",
            "8000/8000 [==============================] - 1s 130us/step - loss: 0.3363 - acc: 0.8632\n",
            "Epoch 62/100\n",
            "8000/8000 [==============================] - 1s 130us/step - loss: 0.3367 - acc: 0.8609\n",
            "Epoch 63/100\n",
            "8000/8000 [==============================] - 1s 132us/step - loss: 0.3368 - acc: 0.8622\n",
            "Epoch 64/100\n",
            "8000/8000 [==============================] - 1s 133us/step - loss: 0.3368 - acc: 0.8617\n",
            "Epoch 65/100\n",
            "8000/8000 [==============================] - 1s 129us/step - loss: 0.3360 - acc: 0.8645\n",
            "Epoch 66/100\n",
            "8000/8000 [==============================] - 1s 128us/step - loss: 0.3359 - acc: 0.8624\n",
            "Epoch 67/100\n",
            "8000/8000 [==============================] - 1s 126us/step - loss: 0.3365 - acc: 0.8620\n",
            "Epoch 68/100\n",
            "8000/8000 [==============================] - 1s 128us/step - loss: 0.3361 - acc: 0.8640\n",
            "Epoch 69/100\n",
            "8000/8000 [==============================] - 1s 128us/step - loss: 0.3360 - acc: 0.8612\n",
            "Epoch 70/100\n",
            "8000/8000 [==============================] - 1s 133us/step - loss: 0.3362 - acc: 0.8627\n",
            "Epoch 71/100\n",
            "8000/8000 [==============================] - 1s 130us/step - loss: 0.3352 - acc: 0.8609\n",
            "Epoch 72/100\n",
            "8000/8000 [==============================] - 1s 135us/step - loss: 0.3341 - acc: 0.8631\n",
            "Epoch 73/100\n",
            "8000/8000 [==============================] - 1s 130us/step - loss: 0.3351 - acc: 0.8616\n",
            "Epoch 74/100\n",
            "8000/8000 [==============================] - 1s 137us/step - loss: 0.3348 - acc: 0.8639\n",
            "Epoch 75/100\n",
            "8000/8000 [==============================] - 1s 135us/step - loss: 0.3351 - acc: 0.8626\n",
            "Epoch 76/100\n",
            "8000/8000 [==============================] - 1s 131us/step - loss: 0.3342 - acc: 0.8619\n",
            "Epoch 77/100\n",
            "8000/8000 [==============================] - 1s 145us/step - loss: 0.3343 - acc: 0.8640\n",
            "Epoch 78/100\n",
            "8000/8000 [==============================] - 1s 149us/step - loss: 0.3346 - acc: 0.8612\n",
            "Epoch 79/100\n",
            "8000/8000 [==============================] - 1s 159us/step - loss: 0.3347 - acc: 0.8635\n",
            "Epoch 80/100\n",
            "8000/8000 [==============================] - 1s 150us/step - loss: 0.3343 - acc: 0.8626\n",
            "Epoch 81/100\n",
            "8000/8000 [==============================] - 1s 152us/step - loss: 0.3337 - acc: 0.8626\n",
            "Epoch 82/100\n",
            "8000/8000 [==============================] - 1s 151us/step - loss: 0.3345 - acc: 0.8622\n",
            "Epoch 83/100\n",
            "8000/8000 [==============================] - 1s 154us/step - loss: 0.3338 - acc: 0.8646\n",
            "Epoch 84/100\n",
            "8000/8000 [==============================] - 1s 146us/step - loss: 0.3346 - acc: 0.8640\n",
            "Epoch 85/100\n",
            "8000/8000 [==============================] - 1s 147us/step - loss: 0.3330 - acc: 0.8639\n",
            "Epoch 86/100\n",
            "8000/8000 [==============================] - 1s 142us/step - loss: 0.3349 - acc: 0.8636\n",
            "Epoch 87/100\n",
            "8000/8000 [==============================] - 1s 140us/step - loss: 0.3338 - acc: 0.8647\n",
            "Epoch 88/100\n",
            "8000/8000 [==============================] - 1s 142us/step - loss: 0.3342 - acc: 0.8657\n",
            "Epoch 89/100\n",
            "8000/8000 [==============================] - 1s 133us/step - loss: 0.3340 - acc: 0.8631\n",
            "Epoch 90/100\n",
            "8000/8000 [==============================] - 1s 149us/step - loss: 0.3335 - acc: 0.8641\n",
            "Epoch 91/100\n",
            "8000/8000 [==============================] - 1s 143us/step - loss: 0.3340 - acc: 0.8649\n",
            "Epoch 92/100\n",
            "8000/8000 [==============================] - 1s 139us/step - loss: 0.3334 - acc: 0.8641\n",
            "Epoch 93/100\n",
            "8000/8000 [==============================] - 1s 139us/step - loss: 0.3331 - acc: 0.8616\n",
            "Epoch 94/100\n",
            "8000/8000 [==============================] - 1s 137us/step - loss: 0.3326 - acc: 0.8644\n",
            "Epoch 95/100\n",
            "8000/8000 [==============================] - 1s 142us/step - loss: 0.3326 - acc: 0.8647\n",
            "Epoch 96/100\n",
            "8000/8000 [==============================] - 1s 138us/step - loss: 0.3328 - acc: 0.8644\n",
            "Epoch 97/100\n",
            "8000/8000 [==============================] - 1s 141us/step - loss: 0.3333 - acc: 0.8617\n",
            "Epoch 98/100\n",
            "8000/8000 [==============================] - 1s 134us/step - loss: 0.3334 - acc: 0.8631\n",
            "Epoch 99/100\n",
            "8000/8000 [==============================] - 1s 129us/step - loss: 0.3324 - acc: 0.8652\n",
            "Epoch 100/100\n",
            "8000/8000 [==============================] - 1s 133us/step - loss: 0.3322 - acc: 0.8642\n"
          ],
          "name": "stdout"
        },
        {
          "output_type": "execute_result",
          "data": {
            "text/plain": [
              "<keras.callbacks.History at 0x7f3765874978>"
            ]
          },
          "metadata": {
            "tags": []
          },
          "execution_count": 35
        }
      ]
    },
    {
      "cell_type": "code",
      "metadata": {
        "id": "-c46xonh9aCb",
        "colab_type": "code",
        "colab": {
          "base_uri": "https://localhost:8080/",
          "height": 202
        },
        "outputId": "1f176639-4153-4935-cbab-208fdc1f50f5"
      },
      "source": [
        "y_pred = classifier.predict(X_test)\n",
        "print(y_pred.shape)\n",
        "y_pred[1:10,:]"
      ],
      "execution_count": 37,
      "outputs": [
        {
          "output_type": "stream",
          "text": [
            "(2000, 1)\n"
          ],
          "name": "stdout"
        },
        {
          "output_type": "execute_result",
          "data": {
            "text/plain": [
              "array([[0.34629995],\n",
              "       [0.08516848],\n",
              "       [0.06420717],\n",
              "       [0.03492075],\n",
              "       [0.9672171 ],\n",
              "       [0.02255869],\n",
              "       [0.14446592],\n",
              "       [0.13372275],\n",
              "       [0.9395673 ]], dtype=float32)"
            ]
          },
          "metadata": {
            "tags": []
          },
          "execution_count": 37
        }
      ]
    },
    {
      "cell_type": "markdown",
      "metadata": {
        "id": "C1P2omqC95Tf",
        "colab_type": "text"
      },
      "source": [
        "* The percentage indicates the probability that certain customer is most likely to leave the bank.\n",
        "* Segment the 10% of their customers with the highest probabilities and then analyze them in more depth with data-mining techniques."
      ]
    },
    {
      "cell_type": "code",
      "metadata": {
        "id": "rkqx-ngg-kRb",
        "colab_type": "code",
        "colab": {}
      },
      "source": [
        "threshold = 0.5\n",
        "y_pred = (y_pred>threshold)"
      ],
      "execution_count": 0,
      "outputs": []
    },
    {
      "cell_type": "code",
      "metadata": {
        "id": "iWKiyKKL-afi",
        "colab_type": "code",
        "colab": {
          "base_uri": "https://localhost:8080/",
          "height": 54
        },
        "outputId": "9f7c0abb-9411-4105-977d-720ca645c528"
      },
      "source": [
        "cm = confusion_matrix(y_test,y_pred)\n",
        "cm"
      ],
      "execution_count": 42,
      "outputs": [
        {
          "output_type": "execute_result",
          "data": {
            "text/plain": [
              "array([[1503,   92],\n",
              "       [ 194,  211]])"
            ]
          },
          "metadata": {
            "tags": []
          },
          "execution_count": 42
        }
      ]
    },
    {
      "cell_type": "code",
      "metadata": {
        "id": "kjzFzi3N_W0E",
        "colab_type": "code",
        "colab": {
          "base_uri": "https://localhost:8080/",
          "height": 91
        },
        "outputId": "7f8764da-fa48-4558-c476-61a001d12e33"
      },
      "source": [
        "print('accuracy_score: ',accuracy_score(y_test, y_pred))\n",
        "print('precision_score: ',precision_score(y_test, y_pred))\n",
        "print('recall_score: ',recall_score(y_test, y_pred))\n",
        "print('f1_score: ',f1_score(y_test, y_pred))"
      ],
      "execution_count": 60,
      "outputs": [
        {
          "output_type": "stream",
          "text": [
            "accuracy_score:  0.857\n",
            "precision_score:  0.6963696369636964\n",
            "recall_score:  0.5209876543209877\n",
            "f1_score:  0.596045197740113\n"
          ],
          "name": "stdout"
        }
      ]
    },
    {
      "cell_type": "code",
      "metadata": {
        "id": "h4g1elzKAVxz",
        "colab_type": "code",
        "colab": {
          "base_uri": "https://localhost:8080/",
          "height": 35
        },
        "outputId": "55aca77e-b661-4113-8fdc-e7ba2189663a"
      },
      "source": [
        "average_precision = average_precision_score(y_test, y_pred)\n",
        "print('Average precision-recall score: {0:0.2f}'.format(\n",
        "      average_precision))"
      ],
      "execution_count": 50,
      "outputs": [
        {
          "output_type": "stream",
          "text": [
            "Average precision-recall score: 0.46\n"
          ],
          "name": "stdout"
        }
      ]
    }
  ]
}